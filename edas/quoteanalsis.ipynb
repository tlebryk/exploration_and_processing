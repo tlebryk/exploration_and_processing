{
 "cells": [
  {
   "cell_type": "markdown",
   "id": "5b70f57d-2ae5-4e33-83a3-301e5c911cb5",
   "metadata": {},
   "source": [
    "Run via sagemaker to get the non-scmp long speakers. Long speakers look to match single work speakers with longer entities. "
   ]
  },
  {
   "cell_type": "code",
   "execution_count": 2,
   "id": "0dfd41e3-13e9-4115-b1d4-260db0235e0d",
   "metadata": {},
   "outputs": [],
   "source": [
    "import re\n",
    "from thesisutils import utils\n",
    "import pandas as pd\n",
    "from tqdm import tqdm\n",
    "\n",
    "tqdm.pandas()"
   ]
  },
  {
   "cell_type": "code",
   "execution_count": 46,
   "id": "a9d86c8b-46d6-473b-8d6c-0ebe5519167a",
   "metadata": {},
   "outputs": [],
   "source": [
    "def removepunct(s):\n",
    "    return re.sub(r\"[^\\w\\s]\", \"\", str(s))\n",
    "\n",
    "\n",
    "def lookupname(quoterow):\n",
    "    \"\"\"Looks up a single word speaker and tries to find a full name entity.\n",
    "\n",
    "    :param quoterow: row in dataframe with quotes in it.\n",
    "    \"\"\"\n",
    "\n",
    "    index = quoterow[publication.uidcol]  # .squeeze()\n",
    "    s = quoterow[\"prepro_speaker\"]\n",
    "    y = ner[ner[publication.uidcol].eq(index)]\n",
    "    # NOTE: could do just PERSON entities?\n",
    "    candidates = y[y.prepro_entity.str.contains(s)]\n",
    "    if len(candidates) == 0:\n",
    "        return s\n",
    "    longest = candidates.prepro_entity.str.len().idxmax()\n",
    "    return y.loc[longest].prepro_entity\n",
    "\n",
    "\n",
    "# %%\n",
    "def longspeakerpipeline(df, ner):\n",
    "    \"\"\"df contains quotes/speakers, ner contains entities. \n",
    "    Preprocesses speakers & entities; matches single word speakers to longer\n",
    "     speakers, stores in \"longer speakers\" column Takes 2.5 minutes to run\n",
    "    \"\"\"\n",
    "    df[\"prepro_speaker\"] = (\n",
    "        df.speaker.str.lower().\n",
    "        str.replace(\"’s|'s\", \"\").\n",
    "        progress_apply(removepunct)\n",
    "    )\n",
    "    ner[\"prepro_entity\"] = (\n",
    "        ner.entity.str.lower()\n",
    "        .str.replace(\"’s|'s\", \"\")\n",
    "        .progress_apply(removepunct)\n",
    "    )\n",
    "    drops = [\n",
    "        \"he\",\n",
    "        \"she\",\n",
    "        \"it\",\n",
    "        \"they\",\n",
    "        \"you\",\n",
    "    ]  # \"a source\", \"the who\", \"the post\"],\n",
    "    # dropmask just filters for speakers who are NOT pronouns\n",
    "    # dropmask = ~df.prepro_speaker.isin(drops)\n",
    "    df[\"single_speaker\"] = (\n",
    "        df.prepro_speaker\n",
    "        .str.split()\n",
    "        .str.len()\n",
    "        .eq(1)\n",
    "    )\n",
    "    # run on non-direct quotes and filter later. \n",
    "    mask2 = ~df.prepro_speaker.isin(drops) & df.single_speaker# & ~df.direct\n",
    "    # match single word, non-pronoun quotes\n",
    "    df.loc[mask2, \"long_speaker\"] = df[mask2].progress_apply(lookupname, axis=1)\n",
    "    # add multi word speakers to long speaker column ()\n",
    "    # takes ~ 2.5 minutes\n",
    "    df.loc[~df.single_speaker, \"long_speaker\"] = df.loc[\n",
    "        ~df.single_speaker\n",
    "    ].prepro_speaker\n",
    "    return df"
   ]
  },
  {
   "cell_type": "code",
   "execution_count": null,
   "id": "9bec6bf3-b099-42fc-a0ca-1456ade6bdf6",
   "metadata": {},
   "outputs": [
    {
     "name": "stdout",
     "output_type": "stream",
     "text": [
      "globaltimes\n"
     ]
    },
    {
     "name": "stderr",
     "output_type": "stream",
     "text": [
      "/tmp/ipykernel_7605/796250420.py:30: FutureWarning: The default value of regex will change from True to False in a future version.\n",
      "  str.replace(\"’s|'s\", \"\").\n",
      "100%|██████████| 156037/156037 [00:00<00:00, 296957.32it/s]\n",
      "/tmp/ipykernel_7605/796250420.py:35: FutureWarning: The default value of regex will change from True to False in a future version.\n",
      "  .str.replace(\"’s|'s\", \"\")\n",
      "100%|██████████| 910403/910403 [00:01<00:00, 591900.04it/s]\n",
      "100%|██████████| 56513/56513 [01:54<00:00, 491.47it/s]\n"
     ]
    },
    {
     "data": {
      "text/plain": [
       "\\n                                              14318\n",
       "nan                                             11808\n",
       "the report                                       1341\n",
       "analysts                                         1040\n",
       "experts                                          1025\n",
       "\\n\\n                                              837\n",
       "the company                                       796\n",
       "the statement                                     698\n",
       "media reports                                     647\n",
       "the xinhua news agency                            613\n",
       "carrie lam                                        504\n",
       "the spokesperson                                  481\n",
       "who                                               400\n",
       "reuters                                           381\n",
       "tian feilong                                      378\n",
       "observers                                         340\n",
       "the chinese gold and silver exchange society      294\n",
       "which                                             279\n",
       "\\nexperts                                         273\n",
       "wang yi                                           245\n",
       "Name: long_speaker, dtype: int64"
      ]
     },
     "metadata": {},
     "output_type": "display_data"
    },
    {
     "name": "stdout",
     "output_type": "stream",
     "text": [
      "chinadaily\n"
     ]
    },
    {
     "name": "stderr",
     "output_type": "stream",
     "text": [
      "/home/ec2-user/SageMaker/.persisted_conda/nlp/lib/python3.10/site-packages/thesisutils/utils.py:124: DtypeWarning: Columns (10) have mixed types. Specify dtype option on import or set low_memory=False.\n",
      "  df = pd.read_csv(StringIO(csv_string))\n",
      "/home/ec2-user/SageMaker/.persisted_conda/nlp/lib/python3.10/site-packages/thesisutils/utils.py:124: DtypeWarning: Columns (5) have mixed types. Specify dtype option on import or set low_memory=False.\n",
      "  df = pd.read_csv(StringIO(csv_string))\n",
      "/tmp/ipykernel_7605/796250420.py:30: FutureWarning: The default value of regex will change from True to False in a future version.\n",
      "  str.replace(\"’s|'s\", \"\").\n",
      "100%|██████████| 346619/346619 [00:00<00:00, 540285.44it/s]\n",
      "/tmp/ipykernel_7605/796250420.py:35: FutureWarning: The default value of regex will change from True to False in a future version.\n",
      "  .str.replace(\"’s|'s\", \"\")\n",
      "100%|██████████| 1964116/1964116 [00:02<00:00, 657008.82it/s]\n",
      " 42%|████▏     | 57740/137931 [1:48:58<2:27:15,  9.08it/s]"
     ]
    }
   ],
   "source": [
    "for publication in utils.publications.values():\n",
    "    if publication.name not in (\"scmp\"):\n",
    "        print(publication.name)\n",
    "        df = utils.read_df_s3(f\"{publication.name}/quotes/quotes_full.csv\")    \n",
    "        ner = utils.read_df_s3(f\"{publication.name}/ner/ner_full.csv\")\n",
    "        df2 = longspeakerpipeline(df, ner)\n",
    "        display(df2.long_speaker.value_counts().head(20))\n",
    "        utils.df_to_s3(df2, key=f\"{publication.name}/quotes/quotes_full_edits.csv\")"
   ]
  }
 ],
 "metadata": {
  "kernelspec": {
   "display_name": "nlp",
   "language": "python",
   "name": "nlp"
  },
  "language_info": {
   "codemirror_mode": {
    "name": "ipython",
    "version": 3
   },
   "file_extension": ".py",
   "mimetype": "text/x-python",
   "name": "python",
   "nbconvert_exporter": "python",
   "pygments_lexer": "ipython3",
   "version": "3.10.5"
  }
 },
 "nbformat": 4,
 "nbformat_minor": 5
}
