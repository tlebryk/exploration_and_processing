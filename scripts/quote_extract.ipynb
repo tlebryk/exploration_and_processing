{
 "cells": [
  {
   "cell_type": "code",
   "execution_count": 2,
   "id": "94ede3bf",
   "metadata": {},
   "outputs": [],
   "source": [
    "import boto3\n",
    "import os\n",
    "import pandas as pd\n",
    "import time\n",
    "import spacy\n",
    "from quotes import quote_extractor\n",
    "from tqdm import tqdm"
   ]
  },
  {
   "cell_type": "code",
   "execution_count": 3,
   "id": "7b3c4cd4",
   "metadata": {},
   "outputs": [],
   "source": [
    "import pandas as pd\n",
    "from io import StringIO "
   ]
  },
  {
   "cell_type": "code",
   "execution_count": 1,
   "id": "3c8c3c40",
   "metadata": {},
   "outputs": [],
   "source": [
    "from thesisutils import utils"
   ]
  },
  {
   "cell_type": "code",
   "execution_count": 4,
   "id": "4c69acf7",
   "metadata": {},
   "outputs": [],
   "source": [
    "from tqdm import tqdm"
   ]
  },
  {
   "cell_type": "code",
   "execution_count": 5,
   "id": "a03ff36f",
   "metadata": {},
   "outputs": [
    {
     "data": {
      "text/plain": [
       "'4.64.0'"
      ]
     },
     "execution_count": 5,
     "metadata": {},
     "output_type": "execute_result"
    }
   ],
   "source": [
    "import pkg_resources\n",
    "pkg_resources.get_distribution('tqdm').version"
   ]
  },
  {
   "cell_type": "code",
   "execution_count": 6,
   "id": "d6a6bb2c",
   "metadata": {},
   "outputs": [],
   "source": [
    "tqdm.pandas()"
   ]
  },
  {
   "cell_type": "code",
   "execution_count": 7,
   "id": "07082ae1",
   "metadata": {},
   "outputs": [],
   "source": [
    "import logging\n",
    "logging.basicConfig(filename='app.log', filemode='w',\n",
    "                    level=logging.INFO,\n",
    "                    format='%(asctime)s %(name)s - [%(levelname)s] - %(message)s')"
   ]
  },
  {
   "cell_type": "code",
   "execution_count": 8,
   "id": "71701270",
   "metadata": {},
   "outputs": [],
   "source": [
    "# s3 = boto3.client(\"s3\")\n",
    "# def read_df_s3(object_key, bucket=\"newyorktime\"):\n",
    "#     \"\"\"Reads a csv from s3 and loads into pandas;\n",
    "#     Means do not have to store large files locally anymore. \n",
    "#     \"\"\"\n",
    "#     csv_obj = s3.get_object(Bucket=bucket, Key=object_key)\n",
    "#     body = csv_obj['Body']\n",
    "#     csv_string = body.read().decode('utf-8')\n",
    "#     df = pd.read_csv(StringIO(csv_string))\n",
    "#     return df"
   ]
  },
  {
   "cell_type": "code",
   "execution_count": 9,
   "id": "52cc06d4",
   "metadata": {},
   "outputs": [],
   "source": [
    "nlp = spacy.load(\"en_core_web_lg\")"
   ]
  },
  {
   "cell_type": "code",
   "execution_count": 10,
   "id": "23544d2d",
   "metadata": {},
   "outputs": [],
   "source": [
    "def df_to_s3(df, key, bucket=\"newyorktime\"):\n",
    "    \"\"\"Directly saves a dataframe to a csv on s3 without saving locally.\"\"\"\n",
    "    logging.info(\"uploading %s to s3\", key)\n",
    "    csv_buffer = StringIO()\n",
    "    df.to_csv(csv_buffer)\n",
    "    s3_resource = boto3.resource('s3')\n",
    "    s3_resource.Object(bucket, key).put(Body=csv_buffer.getvalue())"
   ]
  },
  {
   "cell_type": "code",
   "execution_count": 11,
   "id": "a09310cc",
   "metadata": {},
   "outputs": [],
   "source": [
    "def extract_quotes(row, publication):\n",
    "    \"\"\"Row is a row in a dataframe with a text column and unique identifier column.\"\"\"\n",
    "    text_col = publication.textcol\n",
    "    uid_col = publication.uidcol\n",
    "    logging.info(\"working on %s\", row[uid_col])\n",
    "    doc = nlp(row[text_col], disable=[\n",
    "        \"tagger\",\n",
    "        \"attribute_ruler\",\n",
    "        \"lemmatizer\"\n",
    "    ])\n",
    "    # list of dictionaries\n",
    "    final_quotes = quote_extractor.extract_quotes(row[uid_col], doc)\n",
    "    for item in final_quotes:\n",
    "        item[uid_col] = row[uid_col]\n",
    "        item[\"publication\"] = publication.name\n",
    "    return final_quotes"
   ]
  },
  {
   "cell_type": "code",
   "execution_count": 12,
   "id": "76dc0c67",
   "metadata": {},
   "outputs": [],
   "source": [
    "def run(publication):\n",
    "    logging.info(\"STARTING RUN FOR %s\", publication.name)\n",
    "#     input_df = utils.get_df(publication).head()\n",
    "    input_df = utils.read_df_s3(f\"{publication.name}/{publication.name}_full.csv\")\n",
    "#     print(len(input_df))\n",
    "    input_df[publication.textcol] = input_df[publication.textcol].astype(str)\n",
    "    output_name = f\"{publication.name}/quotes/quotes_full.csv\"\n",
    "    quote_dcts = input_df.progress_apply(\n",
    "        lambda row: extract_quotes(row, publication), axis=1\n",
    "    )\n",
    "    quotedf = pd.json_normalize(quote_dcts.explode()).dropna().convert_dtypes()\n",
    "    df_to_s3(quotedf, output_name)\n",
    "    logging.info(\"FINSIHED RUN FOR %s\", publication.name)\n",
    "    return quotedf"
   ]
  },
  {
   "cell_type": "code",
   "execution_count": 65,
   "id": "6dd0b2f4",
   "metadata": {},
   "outputs": [],
   "source": [
    "publication = utils.publications[\"nyt\"]"
   ]
  },
  {
   "cell_type": "code",
   "execution_count": 66,
   "id": "b42e0362",
   "metadata": {},
   "outputs": [
    {
     "name": "stderr",
     "output_type": "stream",
     "text": [
      "100%|██████████| 10632/10632 [09:48<00:00, 18.05it/s]\n"
     ]
    },
    {
     "name": "stdout",
     "output_type": "stream",
     "text": [
      "run took 591.1505917969998 secs\n"
     ]
    }
   ],
   "source": [
    "quotedf = utils.timeit(run, publication)"
   ]
  },
  {
   "cell_type": "code",
   "execution_count": null,
   "id": "75ec9ac9",
   "metadata": {},
   "outputs": [
    {
     "name": "stderr",
     "output_type": "stream",
     "text": [
      " 98%|█████████▊| 20013/20396 [35:17<02:21,  2.71it/s]  "
     ]
    }
   ],
   "source": [
    "publication = utils.publications[\"hkfp\"]\n",
    "quotedf = utils.timeit(run, publication)"
   ]
  },
  {
   "cell_type": "code",
   "execution_count": null,
   "id": "228590e7",
   "metadata": {},
   "outputs": [
    {
     "name": "stderr",
     "output_type": "stream",
     "text": [
      " 27%|██▋       | 7204/26293 [16:21<1:28:49,  3.58it/s]"
     ]
    }
   ],
   "source": [
    "publication = utils.publications[\"globaltimes\"]\n",
    "quotedf = utils.timeit(run, publication)"
   ]
  },
  {
   "cell_type": "code",
   "execution_count": 29,
   "id": "a745ec42",
   "metadata": {},
   "outputs": [
    {
     "data": {
      "text/plain": [
       "592"
      ]
     },
     "execution_count": 29,
     "metadata": {},
     "output_type": "execute_result"
    }
   ],
   "source": [
    "import gc\n",
    "\n",
    "gc.collect()"
   ]
  },
  {
   "cell_type": "code",
   "execution_count": 19,
   "id": "bab02f41",
   "metadata": {},
   "outputs": [],
   "source": [
    "import gc"
   ]
  },
  {
   "cell_type": "code",
   "execution_count": null,
   "id": "12ccdd96",
   "metadata": {},
   "outputs": [
    {
     "name": "stderr",
     "output_type": "stream",
     "text": [
      " 95%|█████████▍| 44963/47420 [3:15:19<21:20,  1.92it/s]   "
     ]
    }
   ],
   "source": [
    "publication = utils.publications[\"chinadaily\"]\n",
    "utils.timeit(run, publication)"
   ]
  },
  {
   "cell_type": "code",
   "execution_count": 4,
   "id": "531656c0",
   "metadata": {},
   "outputs": [],
   "source": [
    "year = 2011\n",
    "paper = \"scmp\"\n",
    "bucket = \"newyorktime\"\n",
    "key = f\"{paper}/{year}.csv\""
   ]
  },
  {
   "cell_type": "code",
   "execution_count": 6,
   "id": "5e6aea55",
   "metadata": {},
   "outputs": [],
   "source": [
    "s3_client = boto3.client(\"s3\")\n"
   ]
  },
  {
   "cell_type": "code",
   "execution_count": 16,
   "id": "897da438",
   "metadata": {},
   "outputs": [],
   "source": [
    "os.makedirs(\"data\", exist_ok=True) "
   ]
  },
  {
   "cell_type": "code",
   "execution_count": 11,
   "id": "c0884480",
   "metadata": {},
   "outputs": [],
   "source": [
    "filepath = os.path.join('data', key)"
   ]
  },
  {
   "cell_type": "code",
   "execution_count": 18,
   "id": "5253da73",
   "metadata": {},
   "outputs": [],
   "source": [
    "os.path.dirname(filepath) and os.makedirs(os.path.dirname(filepath), exist_ok=True) \n"
   ]
  },
  {
   "cell_type": "code",
   "execution_count": 34,
   "id": "918e1179",
   "metadata": {},
   "outputs": [],
   "source": [
    "s3_client.download_file(bucket, key, filepath)\n",
    "\n",
    "df = pd.read_csv(filepath)"
   ]
  },
  {
   "cell_type": "code",
   "execution_count": 12,
   "id": "0adbc47f",
   "metadata": {},
   "outputs": [],
   "source": [
    "# def timeit(fn, *args, **kwargs):\n",
    "#     s = time.perf_counter()\n",
    "#     ret = fn(*args, **kwargs)\n",
    "#     e = time.perf_counter()\n",
    "#     print(f\"{fn.__name__} took {e-s} secs\")\n",
    "#     return ret"
   ]
  },
  {
   "cell_type": "code",
   "execution_count": 15,
   "id": "7bbb083c",
   "metadata": {},
   "outputs": [],
   "source": [
    "# def upload_s3(filepath, bucket, key=None):\n",
    "#     if not key:\n",
    "#         key = filepath\n",
    "#     try:\n",
    "#         response = s3_client.upload_file(filepath, bucket, key)\n",
    "#         return response\n",
    "#     except ClientError as e:\n",
    "#         logging.exception(e)\n"
   ]
  },
  {
   "cell_type": "code",
   "execution_count": 16,
   "id": "2c987add",
   "metadata": {},
   "outputs": [],
   "source": [
    "# quotedf = timeit(run, df, path)\n",
    "# upload_s3(path, bucket, key=f\"{paper}/quotes/q_{year}.csv\")    "
   ]
  },
  {
   "cell_type": "code",
   "execution_count": null,
   "id": "ab7e037f",
   "metadata": {},
   "outputs": [
    {
     "name": "stderr",
     "output_type": "stream",
     "text": [
      "  0%|          | 0/2 [00:00<?, ?it/s]"
     ]
    },
    {
     "name": "stdout",
     "output_type": "stream",
     "text": [
      "working on  scmp/2019.csv\n",
      "run took 3885.209267205 secs\n"
     ]
    },
    {
     "name": "stderr",
     "output_type": "stream",
     "text": [
      " 50%|█████     | 1/2 [1:04:50<1:04:50, 3890.75s/it]"
     ]
    },
    {
     "name": "stdout",
     "output_type": "stream",
     "text": [
      "working on  scmp/2020.csv\n"
     ]
    }
   ],
   "source": [
    "# for year in tqdm(range(2019, 2021)):\n",
    "#     key = f\"{paper}/{year}.csv\"\n",
    "#     filepath = os.path.join('data', key)    \n",
    "#     path = f\"quotes_{paper}_{year}.csv\"\n",
    "#     print(\"working on \", key)\n",
    "#     s3_client.download_file(bucket, key, filepath)\n",
    "#     df = pd.read_csv(filepath)\n",
    "#     df[\"Body\"] = df.Body.astype(str)\n",
    "#     quotedf = utils.timeit(run, df, path, paper, year)\n",
    "#     upload_s3(path, bucket, key=f\"{paper}/quotes/q_{year}.csv\")    "
   ]
  }
 ],
 "metadata": {
  "kernelspec": {
   "display_name": "conda_nlp",
   "language": "python",
   "name": "conda_nlp"
  },
  "language_info": {
   "codemirror_mode": {
    "name": "ipython",
    "version": 3
   },
   "file_extension": ".py",
   "mimetype": "text/x-python",
   "name": "python",
   "nbconvert_exporter": "python",
   "pygments_lexer": "ipython3",
   "version": "3.7.12"
  }
 },
 "nbformat": 4,
 "nbformat_minor": 5
}
