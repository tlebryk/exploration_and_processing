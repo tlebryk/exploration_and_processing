{
 "cells": [
  {
   "cell_type": "code",
   "execution_count": 1,
   "id": "48372973-94a2-40ce-a25c-bd88531f43e5",
   "metadata": {},
   "outputs": [],
   "source": [
    "import re\n",
    "from thesisutils import utils\n",
    "import pandas as pd\n",
    "from tqdm import tqdm\n",
    "\n",
    "tqdm.pandas()"
   ]
  },
  {
   "cell_type": "code",
   "execution_count": 2,
   "id": "541d7a56-5e23-4dd3-aeb1-865a7f12d947",
   "metadata": {},
   "outputs": [],
   "source": [
    "import spacy\n",
    "import os\n",
    "nlp = spacy.load(\"en_core_web_lg\")\n",
    "# nlp = spacy.load(\"en_core_web_md\")"
   ]
  },
  {
   "cell_type": "code",
   "execution_count": 3,
   "id": "60a4190e-13c7-4d3d-b9f4-b863124d3e63",
   "metadata": {},
   "outputs": [],
   "source": [
    "def get_doc_nerchars(row):\n",
    "    \"\"\"Creates start and end_char columns for ner df based on \n",
    "    token indexes of doc of current row of maindf. \n",
    "    \"\"\"\n",
    "    # print(row[pub.uidcol])\n",
    "    try:\n",
    "        doc = nlp(row[pub.textcol], disable=[\"tok2vec\", \"tagger\", \"parser\", \"attribute_ruler\", \"lemmatizer\", \"ner\"])\n",
    "    except ValueError as ve:\n",
    "        # print(row[pub.uidcol])\n",
    "        # print(ve)\n",
    "        return None\n",
    "\n",
    "    mask = nerdf[pub.uidcol].eq(row[pub.uidcol])\n",
    "    try:\n",
    "        nerdf.loc[mask, \"start_char\"], nerdf.loc[mask, \"end_char\"] = zip(*nerdf[mask].apply(nerchar, doc=doc, axis=1))\n",
    "    except ValueError as ve:\n",
    "        # print(row[pub.uidcol])\n",
    "        # print(ve)\n",
    "        return None\n",
    "        \n",
    "    \n",
    "def nerchar(nrow, doc):\n",
    "    \"\"\"Gets the start/end_chars of tokens in ner.\"\"\"\n",
    "    # print(nrow.ner_index)\n",
    "    ent = doc[nrow[\"start\"]:nrow[\"end\"]]\n",
    "    return ent.start_char, ent.end_char"
   ]
  },
  {
   "cell_type": "code",
   "execution_count": 90,
   "id": "0a32b9c4-a332-40a0-a984-b5145d14603c",
   "metadata": {},
   "outputs": [],
   "source": [
    "pub = utils.publications['nyt']\n",
    "\n",
    "maindf = utils.read_df_s3(f\"{pub.name}/{pub.name}_full.csv\")\n",
    "nerdf = utils.read_df_s3(f\"{pub.name}/ner/ner_full.csv\")\n",
    "\n",
    "nerdf[pub.uidcol] = nerdf[pub.uidcol].astype(str)\n",
    "maindf[pub.uidcol] = maindf[pub.uidcol].astype(str)\n",
    "nerdf = nerdf.rename({\"Unnamed: 0\": \"ner_index\"}, axis=1)\n",
    "\n",
    "path = f\"../../data/{pub.name}/ner/ner_full2.csv\"\n",
    "os.makedirs(os.path.dirname(path), exist_ok=True) "
   ]
  },
  {
   "cell_type": "code",
   "execution_count": 94,
   "id": "b69e81aa-4c76-42bd-bdc3-1efd3b760913",
   "metadata": {
    "tags": []
   },
   "outputs": [
    {
     "name": "stderr",
     "output_type": "stream",
     "text": [
      "100%|██████████| 1/1 [00:03<00:00,  3.73s/it]\n"
     ]
    }
   ],
   "source": [
    "blocksize = 200\n",
    "for i in tqdm(range(0, len(maindf), blocksize)):\n",
    "    idx = maindf.iloc[i:i+blocksize][pub.uidcol]\n",
    "    maindf.iloc[i:i+blocksize].apply(get_doc_nerchars, axis=1)\n",
    "    nerdf[nerdf[pub.uidcol].isin(idx)].to_csv(f\"../../data/{pub.name}/ner/ner_full{i}.csv\")"
   ]
  },
  {
   "cell_type": "code",
   "execution_count": 100,
   "id": "250a49cb-e33b-46bf-8fe3-094e2da93b41",
   "metadata": {},
   "outputs": [],
   "source": [
    "print(nerdf.start_char.isna().value_counts())\n",
    "nerdf.start_char = nerdf.start_char.astype(pd.Int64Dtype())\n",
    "nerdf.end_char = nerdf.end_char.astype(pd.Int64Dtype())\n",
    "nerdf.to_csv(f\"../../data/{pub.name}/ner/ner_full2.csv\")\n",
    "utils.df_to_s3(nerdf, f\"{pub.name}/ner/ner_full2.csv\")\n"
   ]
  },
  {
   "cell_type": "code",
   "execution_count": 103,
   "id": "546a1b7b-7dcd-470c-a16e-966cf133174f",
   "metadata": {},
   "outputs": [],
   "source": [
    "pub = utils.publications['globaltimes']\n"
   ]
  },
  {
   "cell_type": "code",
   "execution_count": 106,
   "id": "88ea8ef5-edfa-45c5-981f-b8d3227dc1e5",
   "metadata": {},
   "outputs": [],
   "source": [
    "def run(pub, start=0):\n",
    "    # pub = utils.publications['nyt']\n",
    "\n",
    "    maindf = utils.read_df_s3(f\"{pub.name}/{pub.name}_full.csv\")\n",
    "    nerdf = utils.read_df_s3(f\"{pub.name}/ner/ner_full.csv\")\n",
    "\n",
    "    nerdf[pub.uidcol] = nerdf[pub.uidcol].astype(str)\n",
    "    maindf[pub.uidcol] = maindf[pub.uidcol].astype(str)\n",
    "    nerdf = nerdf.rename({\"Unnamed: 0\": \"ner_index\"}, axis=1)\n",
    "\n",
    "    path = f\"../../data/{pub.name}/ner/ner_full2.csv\"\n",
    "    os.makedirs(os.path.dirname(path), exist_ok=True) \n",
    "    blocksize = 200\n",
    "    for i in tqdm(range(start, len(maindf), blocksize)):\n",
    "        idx = maindf.iloc[i:i+blocksize][pub.uidcol]\n",
    "        maindf.iloc[i:i+blocksize].apply(get_doc_nerchars, axis=1)\n",
    "        nerdf[nerdf[pub.uidcol].isin(idx)].to_csv(f\"../../data/{pub.name}/ner/ner_full{i}.csv\")\n",
    "    print(nerdf.start_char.isna().value_counts())\n",
    "    nerdf.start_char = nerdf.start_char.astype(pd.Int64Dtype())\n",
    "    nerdf.end_char = nerdf.end_char.astype(pd.Int64Dtype())\n",
    "    nerdf.to_csv(f\"../../data/{pub.name}/ner/ner_full2.csv\")\n",
    "    utils.df_to_s3(nerdf, f\"{pub.name}/ner/ner_full2.csv\")"
   ]
  },
  {
   "cell_type": "code",
   "execution_count": 108,
   "id": "6484e993-091c-4878-bb2f-3d3b186de9f3",
   "metadata": {},
   "outputs": [
    {
     "name": "stdout",
     "output_type": "stream",
     "text": [
      "globaltimes\n"
     ]
    },
    {
     "name": "stderr",
     "output_type": "stream",
     "text": [
      "/home/ec2-user/SageMaker/.persisted_conda/nlp/lib/python3.10/site-packages/thesisutils/utils.py:124: DtypeWarning: Columns (13,38,39) have mixed types. Specify dtype option on import or set low_memory=False.\n",
      "  df = pd.read_csv(StringIO(csv_string))\n"
     ]
    }
   ],
   "source": [
    "print(pub)\n",
    "maindf = utils.read_df_s3(f\"{pub.name}/{pub.name}_full.csv\")\n",
    "nerdf = utils.read_df_s3(f\"{pub.name}/ner/ner_full.csv\")"
   ]
  },
  {
   "cell_type": "code",
   "execution_count": 109,
   "id": "eba33732-cc4a-422f-972e-c64b8fd19416",
   "metadata": {},
   "outputs": [],
   "source": [
    "nerdf[pub.uidcol] = nerdf[pub.uidcol].astype(str)\n",
    "maindf[pub.uidcol] = maindf[pub.uidcol].astype(str)\n",
    "nerdf = nerdf.rename({\"Unnamed: 0\": \"ner_index\"}, axis=1)\n",
    "\n",
    "path = f\"../../data/{pub.name}/ner/ner_full2.csv\"\n",
    "os.makedirs(os.path.dirname(path), exist_ok=True) "
   ]
  },
  {
   "cell_type": "code",
   "execution_count": 111,
   "id": "4c17a4d9-7397-4691-8a58-bd5a24d99c0d",
   "metadata": {},
   "outputs": [
    {
     "name": "stderr",
     "output_type": "stream",
     "text": [
      " 17%|█▋        | 18/108 [03:14<16:10, 10.79s/it]"
     ]
    },
    {
     "name": "stdout",
     "output_type": "stream",
     "text": [
      "790013\n",
      "too many values to unpack (expected 2)\n"
     ]
    },
    {
     "name": "stderr",
     "output_type": "stream",
     "text": [
      " 19%|█▊        | 20/108 [03:35<15:36, 10.64s/it]"
     ]
    },
    {
     "name": "stdout",
     "output_type": "stream",
     "text": [
      "803507\n",
      "too many values to unpack (expected 2)\n"
     ]
    },
    {
     "name": "stderr",
     "output_type": "stream",
     "text": [
      " 61%|██████    | 66/108 [11:56<07:26, 10.62s/it]"
     ]
    },
    {
     "name": "stdout",
     "output_type": "stream",
     "text": [
      "1071052\n",
      "too many values to unpack (expected 2)\n"
     ]
    },
    {
     "name": "stderr",
     "output_type": "stream",
     "text": [
      " 72%|███████▏  | 78/108 [14:06<05:27, 10.90s/it]"
     ]
    },
    {
     "name": "stdout",
     "output_type": "stream",
     "text": [
      "1160134\n",
      "too many values to unpack (expected 2)\n",
      "1160061\n",
      "too many values to unpack (expected 2)\n"
     ]
    },
    {
     "name": "stderr",
     "output_type": "stream",
     "text": [
      " 75%|███████▌  | 81/108 [14:38<04:49, 10.74s/it]"
     ]
    },
    {
     "name": "stdout",
     "output_type": "stream",
     "text": [
      "1165828\n",
      "too many values to unpack (expected 2)\n"
     ]
    },
    {
     "name": "stderr",
     "output_type": "stream",
     "text": [
      " 82%|████████▏ | 89/108 [16:29<04:51, 15.34s/it]"
     ]
    },
    {
     "name": "stdout",
     "output_type": "stream",
     "text": [
      "1189896\n",
      "too many values to unpack (expected 2)\n"
     ]
    },
    {
     "name": "stderr",
     "output_type": "stream",
     "text": [
      " 83%|████████▎ | 90/108 [16:44<04:32, 15.13s/it]"
     ]
    },
    {
     "name": "stdout",
     "output_type": "stream",
     "text": [
      "1193176\n",
      "[E1041] Expected a string, Doc, or bytes as input, but got: <class 'float'>\n"
     ]
    },
    {
     "name": "stderr",
     "output_type": "stream",
     "text": [
      "100%|██████████| 108/108 [20:00<00:00, 11.11s/it]\n"
     ]
    }
   ],
   "source": [
    "start =0\n",
    "blocksize = 200\n",
    "for i in tqdm(range(start, len(maindf), blocksize)):\n",
    "    idx = maindf.iloc[i:i+blocksize][pub.uidcol]\n",
    "    maindf.iloc[i:i+blocksize].apply(get_doc_nerchars, axis=1)\n",
    "    nerdf[nerdf[pub.uidcol].isin(idx)].to_csv(f\"../../data/{pub.name}/ner/ner_full{i}.csv\")"
   ]
  },
  {
   "cell_type": "code",
   "execution_count": 112,
   "id": "d3c3e6e8-f364-40dd-9245-122c098503f1",
   "metadata": {},
   "outputs": [
    {
     "name": "stdout",
     "output_type": "stream",
     "text": [
      "hkfp\n"
     ]
    },
    {
     "name": "stderr",
     "output_type": "stream",
     "text": [
      "  0%|          | 0/102 [00:00<?, ?it/s]"
     ]
    },
    {
     "name": "stdout",
     "output_type": "stream",
     "text": [
      "post-18527\n",
      "too many values to unpack (expected 2)\n",
      "post-18531\n",
      "too many values to unpack (expected 2)\n",
      "post-18623\n",
      "too many values to unpack (expected 2)\n",
      "post-15387\n",
      "too many values to unpack (expected 2)\n"
     ]
    },
    {
     "name": "stderr",
     "output_type": "stream",
     "text": [
      " 10%|▉         | 10/102 [01:23<12:48,  8.35s/it]"
     ]
    },
    {
     "name": "stdout",
     "output_type": "stream",
     "text": [
      "post-154501\n",
      "too many values to unpack (expected 2)\n"
     ]
    },
    {
     "name": "stderr",
     "output_type": "stream",
     "text": [
      " 11%|█         | 11/102 [01:31<12:41,  8.37s/it]"
     ]
    },
    {
     "name": "stdout",
     "output_type": "stream",
     "text": [
      "post-155159\n",
      "too many values to unpack (expected 2)\n"
     ]
    },
    {
     "name": "stderr",
     "output_type": "stream",
     "text": [
      " 12%|█▏        | 12/102 [01:39<12:33,  8.37s/it]"
     ]
    },
    {
     "name": "stdout",
     "output_type": "stream",
     "text": [
      "post-154258\n",
      "too many values to unpack (expected 2)\n"
     ]
    },
    {
     "name": "stderr",
     "output_type": "stream",
     "text": [
      " 15%|█▍        | 15/102 [02:05<12:18,  8.48s/it]"
     ]
    },
    {
     "name": "stdout",
     "output_type": "stream",
     "text": [
      "post-168855\n",
      "too many values to unpack (expected 2)\n"
     ]
    },
    {
     "name": "stderr",
     "output_type": "stream",
     "text": [
      " 27%|██▋       | 28/102 [03:57<10:48,  8.77s/it]"
     ]
    },
    {
     "name": "stdout",
     "output_type": "stream",
     "text": [
      "post-216640\n",
      "too many values to unpack (expected 2)\n"
     ]
    },
    {
     "name": "stderr",
     "output_type": "stream",
     "text": [
      " 39%|███▉      | 40/102 [05:39<09:05,  8.80s/it]"
     ]
    },
    {
     "name": "stdout",
     "output_type": "stream",
     "text": [
      "post-258246\n",
      "too many values to unpack (expected 2)\n"
     ]
    },
    {
     "name": "stderr",
     "output_type": "stream",
     "text": [
      " 56%|█████▌    | 57/102 [08:05<06:26,  8.59s/it]"
     ]
    },
    {
     "name": "stdout",
     "output_type": "stream",
     "text": [
      "post-39871\n",
      "too many values to unpack (expected 2)\n"
     ]
    },
    {
     "name": "stderr",
     "output_type": "stream",
     "text": [
      " 67%|██████▋   | 68/102 [09:37<04:42,  8.31s/it]"
     ]
    },
    {
     "name": "stdout",
     "output_type": "stream",
     "text": [
      "post-46704\n",
      "too many values to unpack (expected 2)\n"
     ]
    },
    {
     "name": "stderr",
     "output_type": "stream",
     "text": [
      " 68%|██████▊   | 69/102 [09:45<04:31,  8.23s/it]"
     ]
    },
    {
     "name": "stdout",
     "output_type": "stream",
     "text": [
      "post-55199\n",
      "too many values to unpack (expected 2)\n"
     ]
    },
    {
     "name": "stderr",
     "output_type": "stream",
     "text": [
      " 81%|████████▏ | 83/102 [11:40<02:41,  8.48s/it]"
     ]
    },
    {
     "name": "stdout",
     "output_type": "stream",
     "text": [
      "post-88332\n",
      "too many values to unpack (expected 2)\n"
     ]
    },
    {
     "name": "stderr",
     "output_type": "stream",
     "text": [
      "100%|██████████| 102/102 [14:19<00:00,  8.43s/it]\n"
     ]
    }
   ],
   "source": [
    "pub = utils.publications['hkfp']\n",
    "\n",
    "print(pub)\n",
    "maindf = utils.read_df_s3(f\"{pub.name}/{pub.name}_full.csv\")\n",
    "nerdf = utils.read_df_s3(f\"{pub.name}/ner/ner_full.csv\")\n",
    "nerdf[pub.uidcol] = nerdf[pub.uidcol].astype(str)\n",
    "maindf[pub.uidcol] = maindf[pub.uidcol].astype(str)\n",
    "nerdf = nerdf.rename({\"Unnamed: 0\": \"ner_index\"}, axis=1)\n",
    "\n",
    "path = f\"../../data/{pub.name}/ner/ner_full2.csv\"\n",
    "os.makedirs(os.path.dirname(path), exist_ok=True) \n",
    "start =0\n",
    "blocksize = 200\n",
    "for i in tqdm(range(start, len(maindf), blocksize)):\n",
    "    idx = maindf.iloc[i:i+blocksize][pub.uidcol]\n",
    "    maindf.iloc[i:i+blocksize].apply(get_doc_nerchars, axis=1)\n",
    "    nerdf[nerdf[pub.uidcol].isin(idx)].to_csv(f\"../../data/{pub.name}/ner/ner_full{i}.csv\")"
   ]
  },
  {
   "cell_type": "code",
   "execution_count": null,
   "id": "0a539645-0df2-4648-8d58-ca20f7c60740",
   "metadata": {},
   "outputs": [],
   "source": []
  },
  {
   "cell_type": "code",
   "execution_count": 13,
   "id": "73908490-f6dd-4b42-a419-fc6a947a361e",
   "metadata": {},
   "outputs": [
    {
     "name": "stderr",
     "output_type": "stream",
     "text": [
      "/home/ec2-user/SageMaker/.persisted_conda/nlp/lib/python3.10/site-packages/thesisutils/utils.py:124: DtypeWarning: Columns (13,38,39) have mixed types. Specify dtype option on import or set low_memory=False.\n",
      "  df = pd.read_csv(StringIO(csv_string))\n"
     ]
    }
   ],
   "source": [
    "pub = utils.publications['globaltimes']\n",
    "maindf = utils.read_df_s3(f\"{pub.name}/{pub.name}_full.csv\") \n",
    "ndf = pd.concat(pd.read_csv(f\"../../data/{pub.name}/ner/ner_full{i}.csv\") for i in range(0, len(maindf), blocksize))\n"
   ]
  },
  {
   "cell_type": "code",
   "execution_count": 14,
   "id": "822794ae-3afc-4f5c-9a71-51b5b2f0dcd2",
   "metadata": {},
   "outputs": [
    {
     "data": {
      "text/html": [
       "<div>\n",
       "<style scoped>\n",
       "    .dataframe tbody tr th:only-of-type {\n",
       "        vertical-align: middle;\n",
       "    }\n",
       "\n",
       "    .dataframe tbody tr th {\n",
       "        vertical-align: top;\n",
       "    }\n",
       "\n",
       "    .dataframe thead th {\n",
       "        text-align: right;\n",
       "    }\n",
       "</style>\n",
       "<table border=\"1\" class=\"dataframe\">\n",
       "  <thead>\n",
       "    <tr style=\"text-align: right;\">\n",
       "      <th></th>\n",
       "      <th>Unnamed: 0</th>\n",
       "      <th>Unnamed: 0.1</th>\n",
       "      <th>ner_index</th>\n",
       "      <th>entity</th>\n",
       "      <th>label_</th>\n",
       "      <th>start</th>\n",
       "      <th>end</th>\n",
       "      <th>Art_id</th>\n",
       "      <th>publication</th>\n",
       "      <th>start_char</th>\n",
       "      <th>end_char</th>\n",
       "    </tr>\n",
       "  </thead>\n",
       "  <tbody>\n",
       "    <tr>\n",
       "      <th>0</th>\n",
       "      <td>0</td>\n",
       "      <td>0</td>\n",
       "      <td>0</td>\n",
       "      <td>Liu Rui/GT</td>\n",
       "      <td>PERSON</td>\n",
       "      <td>2</td>\n",
       "      <td>6</td>\n",
       "      <td>1241537</td>\n",
       "      <td>globaltimes</td>\n",
       "      <td>14.0</td>\n",
       "      <td>24.0</td>\n",
       "    </tr>\n",
       "    <tr>\n",
       "      <th>1</th>\n",
       "      <td>1</td>\n",
       "      <td>1</td>\n",
       "      <td>1</td>\n",
       "      <td>US</td>\n",
       "      <td>GPE</td>\n",
       "      <td>8</td>\n",
       "      <td>9</td>\n",
       "      <td>1241537</td>\n",
       "      <td>globaltimes</td>\n",
       "      <td>30.0</td>\n",
       "      <td>32.0</td>\n",
       "    </tr>\n",
       "    <tr>\n",
       "      <th>2</th>\n",
       "      <td>2</td>\n",
       "      <td>2</td>\n",
       "      <td>2</td>\n",
       "      <td>US</td>\n",
       "      <td>GPE</td>\n",
       "      <td>29</td>\n",
       "      <td>30</td>\n",
       "      <td>1241537</td>\n",
       "      <td>globaltimes</td>\n",
       "      <td>122.0</td>\n",
       "      <td>124.0</td>\n",
       "    </tr>\n",
       "    <tr>\n",
       "      <th>3</th>\n",
       "      <td>3</td>\n",
       "      <td>3</td>\n",
       "      <td>3</td>\n",
       "      <td>Joe Biden</td>\n",
       "      <td>PERSON</td>\n",
       "      <td>31</td>\n",
       "      <td>33</td>\n",
       "      <td>1241537</td>\n",
       "      <td>globaltimes</td>\n",
       "      <td>135.0</td>\n",
       "      <td>144.0</td>\n",
       "    </tr>\n",
       "    <tr>\n",
       "      <th>4</th>\n",
       "      <td>4</td>\n",
       "      <td>4</td>\n",
       "      <td>4</td>\n",
       "      <td>Yury Tavrovsky</td>\n",
       "      <td>PERSON</td>\n",
       "      <td>47</td>\n",
       "      <td>49</td>\n",
       "      <td>1241537</td>\n",
       "      <td>globaltimes</td>\n",
       "      <td>211.0</td>\n",
       "      <td>225.0</td>\n",
       "    </tr>\n",
       "    <tr>\n",
       "      <th>...</th>\n",
       "      <td>...</td>\n",
       "      <td>...</td>\n",
       "      <td>...</td>\n",
       "      <td>...</td>\n",
       "      <td>...</td>\n",
       "      <td>...</td>\n",
       "      <td>...</td>\n",
       "      <td>...</td>\n",
       "      <td>...</td>\n",
       "      <td>...</td>\n",
       "      <td>...</td>\n",
       "    </tr>\n",
       "    <tr>\n",
       "      <th>2246</th>\n",
       "      <td>910398</td>\n",
       "      <td>1060184</td>\n",
       "      <td>1060212</td>\n",
       "      <td>the White House Internship Office</td>\n",
       "      <td>ORG</td>\n",
       "      <td>524</td>\n",
       "      <td>529</td>\n",
       "      <td>625615</td>\n",
       "      <td>globaltimes</td>\n",
       "      <td>2689.0</td>\n",
       "      <td>2722.0</td>\n",
       "    </tr>\n",
       "    <tr>\n",
       "      <th>2247</th>\n",
       "      <td>910399</td>\n",
       "      <td>1060185</td>\n",
       "      <td>1060213</td>\n",
       "      <td>Binjiang Avenue</td>\n",
       "      <td>FAC</td>\n",
       "      <td>13</td>\n",
       "      <td>15</td>\n",
       "      <td>625830</td>\n",
       "      <td>globaltimes</td>\n",
       "      <td>66.0</td>\n",
       "      <td>81.0</td>\n",
       "    </tr>\n",
       "    <tr>\n",
       "      <th>2248</th>\n",
       "      <td>910400</td>\n",
       "      <td>1060186</td>\n",
       "      <td>1060214</td>\n",
       "      <td>Hong Kong</td>\n",
       "      <td>GPE</td>\n",
       "      <td>23</td>\n",
       "      <td>25</td>\n",
       "      <td>625830</td>\n",
       "      <td>globaltimes</td>\n",
       "      <td>128.0</td>\n",
       "      <td>137.0</td>\n",
       "    </tr>\n",
       "    <tr>\n",
       "      <th>2249</th>\n",
       "      <td>910401</td>\n",
       "      <td>1060187</td>\n",
       "      <td>1060215</td>\n",
       "      <td>Bund</td>\n",
       "      <td>FAC</td>\n",
       "      <td>28</td>\n",
       "      <td>29</td>\n",
       "      <td>625830</td>\n",
       "      <td>globaltimes</td>\n",
       "      <td>152.0</td>\n",
       "      <td>156.0</td>\n",
       "    </tr>\n",
       "    <tr>\n",
       "      <th>2250</th>\n",
       "      <td>910402</td>\n",
       "      <td>1060188</td>\n",
       "      <td>1060216</td>\n",
       "      <td>CFP</td>\n",
       "      <td>ORG</td>\n",
       "      <td>32</td>\n",
       "      <td>33</td>\n",
       "      <td>625830</td>\n",
       "      <td>globaltimes</td>\n",
       "      <td>165.0</td>\n",
       "      <td>168.0</td>\n",
       "    </tr>\n",
       "  </tbody>\n",
       "</table>\n",
       "<p>910403 rows × 11 columns</p>\n",
       "</div>"
      ],
      "text/plain": [
       "      Unnamed: 0  Unnamed: 0.1  ner_index                             entity  \\\n",
       "0              0             0          0                         Liu Rui/GT   \n",
       "1              1             1          1                                 US   \n",
       "2              2             2          2                                 US   \n",
       "3              3             3          3                          Joe Biden   \n",
       "4              4             4          4                     Yury Tavrovsky   \n",
       "...          ...           ...        ...                                ...   \n",
       "2246      910398       1060184    1060212  the White House Internship Office   \n",
       "2247      910399       1060185    1060213                    Binjiang Avenue   \n",
       "2248      910400       1060186    1060214                          Hong Kong   \n",
       "2249      910401       1060187    1060215                               Bund   \n",
       "2250      910402       1060188    1060216                                CFP   \n",
       "\n",
       "      label_  start  end   Art_id  publication  start_char  end_char  \n",
       "0     PERSON      2    6  1241537  globaltimes        14.0      24.0  \n",
       "1        GPE      8    9  1241537  globaltimes        30.0      32.0  \n",
       "2        GPE     29   30  1241537  globaltimes       122.0     124.0  \n",
       "3     PERSON     31   33  1241537  globaltimes       135.0     144.0  \n",
       "4     PERSON     47   49  1241537  globaltimes       211.0     225.0  \n",
       "...      ...    ...  ...      ...          ...         ...       ...  \n",
       "2246     ORG    524  529   625615  globaltimes      2689.0    2722.0  \n",
       "2247     FAC     13   15   625830  globaltimes        66.0      81.0  \n",
       "2248     GPE     23   25   625830  globaltimes       128.0     137.0  \n",
       "2249     FAC     28   29   625830  globaltimes       152.0     156.0  \n",
       "2250     ORG     32   33   625830  globaltimes       165.0     168.0  \n",
       "\n",
       "[910403 rows x 11 columns]"
      ]
     },
     "execution_count": 14,
     "metadata": {},
     "output_type": "execute_result"
    }
   ],
   "source": [
    "ndf"
   ]
  },
  {
   "cell_type": "code",
   "execution_count": 15,
   "id": "32d46a90-b5fa-41d3-9622-e2f687560262",
   "metadata": {},
   "outputs": [],
   "source": [
    "path = f\"../../data/{pub.name}/ner/ner_full2.csv\"\n",
    "ndf.start_char = ndf.start_char.astype(pd.Int64Dtype())\n",
    "ndf.end_char = ndf.end_char.astype(pd.Int64Dtype())\n",
    "ndf.to_csv(path)\n",
    "utils.df_to_s3(ndf, f\"{pub.name}/ner/ner_full2.csv\")"
   ]
  },
  {
   "cell_type": "code",
   "execution_count": 7,
   "id": "ab310f92-b5e6-49f3-8aff-fdf418475446",
   "metadata": {},
   "outputs": [],
   "source": [
    "blocksize=200"
   ]
  },
  {
   "cell_type": "code",
   "execution_count": 5,
   "id": "74af430b-3320-4aeb-9ce3-92a1335a70e1",
   "metadata": {},
   "outputs": [],
   "source": [
    "pub = utils.publications['scmp']\n"
   ]
  },
  {
   "cell_type": "code",
   "execution_count": 14,
   "id": "2102fc57-5f24-4f97-9d2d-391824d4300f",
   "metadata": {},
   "outputs": [
    {
     "data": {
      "text/plain": [
       "'scmp'"
      ]
     },
     "execution_count": 14,
     "metadata": {},
     "output_type": "execute_result"
    }
   ],
   "source": [
    "pub.name"
   ]
  },
  {
   "cell_type": "code",
   "execution_count": 18,
   "id": "e68c5a61-5206-40a7-bdf2-5cbaea91ec2e",
   "metadata": {
    "collapsed": true,
    "jupyter": {
     "outputs_hidden": true
    },
    "tags": []
   },
   "outputs": [
    {
     "name": "stderr",
     "output_type": "stream",
     "text": [
      "  2%|▏         | 511/20516 [00:21<13:58, 23.86it/s]"
     ]
    },
    {
     "name": "stdout",
     "output_type": "stream",
     "text": [
      "722527\n",
      "too many values to unpack (expected 2)\n"
     ]
    },
    {
     "name": "stderr",
     "output_type": "stream",
     "text": [
      "  5%|▍         | 976/20516 [00:40<13:04, 24.90it/s]"
     ]
    },
    {
     "name": "stdout",
     "output_type": "stream",
     "text": [
      "723024\n",
      "too many values to unpack (expected 2)\n"
     ]
    },
    {
     "name": "stderr",
     "output_type": "stream",
     "text": [
      "  6%|▌         | 1195/20516 [00:49<12:43, 25.31it/s]"
     ]
    },
    {
     "name": "stdout",
     "output_type": "stream",
     "text": [
      "723261\n",
      "too many values to unpack (expected 2)\n"
     ]
    },
    {
     "name": "stderr",
     "output_type": "stream",
     "text": [
      "  9%|▊         | 1744/20516 [01:11<12:38, 24.76it/s]"
     ]
    },
    {
     "name": "stdout",
     "output_type": "stream",
     "text": [
      "723861\n",
      "too many values to unpack (expected 2)\n"
     ]
    },
    {
     "name": "stderr",
     "output_type": "stream",
     "text": [
      " 14%|█▎        | 2770/20516 [01:52<12:08, 24.34it/s]"
     ]
    },
    {
     "name": "stdout",
     "output_type": "stream",
     "text": [
      "724956\n",
      "too many values to unpack (expected 2)\n"
     ]
    },
    {
     "name": "stderr",
     "output_type": "stream",
     "text": [
      " 19%|█▉        | 3917/20516 [02:39<10:47, 25.62it/s]"
     ]
    },
    {
     "name": "stdout",
     "output_type": "stream",
     "text": [
      "726176\n",
      "too many values to unpack (expected 2)\n"
     ]
    },
    {
     "name": "stderr",
     "output_type": "stream",
     "text": [
      " 22%|██▏       | 4544/20516 [03:04<10:27, 25.45it/s]"
     ]
    },
    {
     "name": "stdout",
     "output_type": "stream",
     "text": [
      "726850\n",
      "too many values to unpack (expected 2)\n"
     ]
    },
    {
     "name": "stderr",
     "output_type": "stream",
     "text": [
      " 26%|██▌       | 5333/20516 [03:35<10:02, 25.19it/s]"
     ]
    },
    {
     "name": "stdout",
     "output_type": "stream",
     "text": [
      "727706\n",
      "too many values to unpack (expected 2)\n"
     ]
    },
    {
     "name": "stderr",
     "output_type": "stream",
     "text": [
      " 26%|██▋       | 5399/20516 [03:38<09:46, 25.76it/s]"
     ]
    },
    {
     "name": "stdout",
     "output_type": "stream",
     "text": [
      "727796\n",
      "too many values to unpack (expected 2)\n"
     ]
    },
    {
     "name": "stderr",
     "output_type": "stream",
     "text": [
      " 30%|██▉       | 6059/20516 [04:04<09:36, 25.09it/s]"
     ]
    },
    {
     "name": "stdout",
     "output_type": "stream",
     "text": [
      "728491\n",
      "too many values to unpack (expected 2)\n"
     ]
    },
    {
     "name": "stderr",
     "output_type": "stream",
     "text": [
      " 31%|███       | 6308/20516 [04:14<09:14, 25.64it/s]"
     ]
    },
    {
     "name": "stdout",
     "output_type": "stream",
     "text": [
      "728750\n",
      "too many values to unpack (expected 2)\n"
     ]
    },
    {
     "name": "stderr",
     "output_type": "stream",
     "text": [
      " 31%|███       | 6392/20516 [04:18<09:05, 25.91it/s]"
     ]
    },
    {
     "name": "stdout",
     "output_type": "stream",
     "text": [
      "728860\n",
      "too many values to unpack (expected 2)\n"
     ]
    },
    {
     "name": "stderr",
     "output_type": "stream",
     "text": [
      " 36%|███▋      | 7463/20516 [05:00<08:40, 25.06it/s]"
     ]
    },
    {
     "name": "stdout",
     "output_type": "stream",
     "text": [
      "730014\n",
      "too many values to unpack (expected 2)\n"
     ]
    },
    {
     "name": "stderr",
     "output_type": "stream",
     "text": [
      " 37%|███▋      | 7526/20516 [05:03<08:36, 25.13it/s]"
     ]
    },
    {
     "name": "stdout",
     "output_type": "stream",
     "text": [
      "730085\n",
      "too many values to unpack (expected 2)\n"
     ]
    },
    {
     "name": "stderr",
     "output_type": "stream",
     "text": [
      " 39%|███▉      | 8006/20516 [05:22<08:07, 25.66it/s]"
     ]
    },
    {
     "name": "stdout",
     "output_type": "stream",
     "text": [
      "730608\n",
      "too many values to unpack (expected 2)\n"
     ]
    },
    {
     "name": "stderr",
     "output_type": "stream",
     "text": [
      " 40%|████      | 8306/20516 [05:35<07:57, 25.57it/s]"
     ]
    },
    {
     "name": "stdout",
     "output_type": "stream",
     "text": [
      "730949\n",
      "too many values to unpack (expected 2)\n"
     ]
    },
    {
     "name": "stderr",
     "output_type": "stream",
     "text": [
      " 42%|████▏     | 8597/20516 [05:47<07:49, 25.38it/s]"
     ]
    },
    {
     "name": "stdout",
     "output_type": "stream",
     "text": [
      "731263\n",
      "too many values to unpack (expected 2)\n"
     ]
    },
    {
     "name": "stderr",
     "output_type": "stream",
     "text": [
      " 43%|████▎     | 8882/20516 [05:58<07:31, 25.79it/s]"
     ]
    },
    {
     "name": "stdout",
     "output_type": "stream",
     "text": [
      "731573\n",
      "too many values to unpack (expected 2)\n"
     ]
    },
    {
     "name": "stderr",
     "output_type": "stream",
     "text": [
      " 47%|████▋     | 9623/20516 [06:27<07:13, 25.14it/s]"
     ]
    },
    {
     "name": "stdout",
     "output_type": "stream",
     "text": [
      "732394\n",
      "too many values to unpack (expected 2)\n"
     ]
    },
    {
     "name": "stderr",
     "output_type": "stream",
     "text": [
      " 48%|████▊     | 9776/20516 [06:34<06:58, 25.67it/s]"
     ]
    },
    {
     "name": "stdout",
     "output_type": "stream",
     "text": [
      "732565\n",
      "too many values to unpack (expected 2)\n"
     ]
    },
    {
     "name": "stderr",
     "output_type": "stream",
     "text": [
      " 53%|█████▎    | 10973/20516 [07:21<06:09, 25.81it/s]"
     ]
    },
    {
     "name": "stdout",
     "output_type": "stream",
     "text": [
      "733886\n",
      "too many values to unpack (expected 2)\n"
     ]
    },
    {
     "name": "stderr",
     "output_type": "stream",
     "text": [
      " 56%|█████▌    | 11438/20516 [07:39<05:56, 25.43it/s]"
     ]
    },
    {
     "name": "stdout",
     "output_type": "stream",
     "text": [
      "734402\n",
      "too many values to unpack (expected 2)\n"
     ]
    },
    {
     "name": "stderr",
     "output_type": "stream",
     "text": [
      " 58%|█████▊    | 11891/20516 [07:57<05:49, 24.69it/s]"
     ]
    },
    {
     "name": "stdout",
     "output_type": "stream",
     "text": [
      "734929\n",
      "too many values to unpack (expected 2)\n"
     ]
    },
    {
     "name": "stderr",
     "output_type": "stream",
     "text": [
      " 61%|██████    | 12473/20516 [08:20<05:27, 24.58it/s]"
     ]
    },
    {
     "name": "stdout",
     "output_type": "stream",
     "text": [
      "735573\n",
      "too many values to unpack (expected 2)\n"
     ]
    },
    {
     "name": "stderr",
     "output_type": "stream",
     "text": [
      " 61%|██████    | 12563/20516 [08:24<05:10, 25.64it/s]"
     ]
    },
    {
     "name": "stdout",
     "output_type": "stream",
     "text": [
      "735743\n",
      "too many values to unpack (expected 2)\n"
     ]
    },
    {
     "name": "stderr",
     "output_type": "stream",
     "text": [
      " 61%|██████▏   | 12575/20516 [08:24<05:14, 25.25it/s]"
     ]
    },
    {
     "name": "stdout",
     "output_type": "stream",
     "text": [
      "735756\n",
      "too many values to unpack (expected 2)\n"
     ]
    },
    {
     "name": "stderr",
     "output_type": "stream",
     "text": [
      " 63%|██████▎   | 12987/20516 [08:42<04:52, 25.74it/s]"
     ]
    },
    {
     "name": "stdout",
     "output_type": "stream",
     "text": [
      "736196\n",
      "too many values to unpack (expected 2)\n"
     ]
    },
    {
     "name": "stderr",
     "output_type": "stream",
     "text": [
      " 64%|██████▎   | 13056/20516 [08:45<04:53, 25.42it/s]"
     ]
    },
    {
     "name": "stdout",
     "output_type": "stream",
     "text": [
      "736272\n",
      "too many values to unpack (expected 2)\n"
     ]
    },
    {
     "name": "stderr",
     "output_type": "stream",
     "text": [
      " 64%|██████▍   | 13194/20516 [08:50<05:02, 24.23it/s]"
     ]
    },
    {
     "name": "stdout",
     "output_type": "stream",
     "text": [
      "736421\n",
      "too many values to unpack (expected 2)\n"
     ]
    },
    {
     "name": "stderr",
     "output_type": "stream",
     "text": [
      " 67%|██████▋   | 13806/20516 [09:14<04:34, 24.43it/s]"
     ]
    },
    {
     "name": "stdout",
     "output_type": "stream",
     "text": [
      "737090\n",
      "too many values to unpack (expected 2)\n"
     ]
    },
    {
     "name": "stderr",
     "output_type": "stream",
     "text": [
      " 69%|██████▊   | 14091/20516 [09:26<04:21, 24.55it/s]"
     ]
    },
    {
     "name": "stdout",
     "output_type": "stream",
     "text": [
      "737397\n",
      "too many values to unpack (expected 2)\n"
     ]
    },
    {
     "name": "stderr",
     "output_type": "stream",
     "text": [
      " 70%|███████   | 14409/20516 [09:38<03:59, 25.46it/s]"
     ]
    },
    {
     "name": "stdout",
     "output_type": "stream",
     "text": [
      "737750\n",
      "too many values to unpack (expected 2)\n",
      "737755\n",
      "too many values to unpack (expected 2)\n"
     ]
    },
    {
     "name": "stderr",
     "output_type": "stream",
     "text": [
      " 72%|███████▏  | 14745/20516 [09:51<03:54, 24.64it/s]"
     ]
    },
    {
     "name": "stdout",
     "output_type": "stream",
     "text": [
      "738104\n",
      "too many values to unpack (expected 2)\n"
     ]
    },
    {
     "name": "stderr",
     "output_type": "stream",
     "text": [
      " 73%|███████▎  | 15072/20516 [10:04<03:37, 24.99it/s]"
     ]
    },
    {
     "name": "stdout",
     "output_type": "stream",
     "text": [
      "738466\n",
      "too many values to unpack (expected 2)\n"
     ]
    },
    {
     "name": "stderr",
     "output_type": "stream",
     "text": [
      " 75%|███████▍  | 15354/20516 [10:15<03:19, 25.85it/s]"
     ]
    },
    {
     "name": "stdout",
     "output_type": "stream",
     "text": [
      "738752\n",
      "too many values to unpack (expected 2)\n"
     ]
    },
    {
     "name": "stderr",
     "output_type": "stream",
     "text": [
      " 75%|███████▌  | 15438/20516 [10:19<03:16, 25.90it/s]"
     ]
    },
    {
     "name": "stdout",
     "output_type": "stream",
     "text": [
      "738853\n",
      "too many values to unpack (expected 2)\n"
     ]
    },
    {
     "name": "stderr",
     "output_type": "stream",
     "text": [
      " 78%|███████▊  | 15959/20516 [10:40<02:58, 25.52it/s]"
     ]
    },
    {
     "name": "stdout",
     "output_type": "stream",
     "text": [
      "739403\n",
      "too many values to unpack (expected 2)\n"
     ]
    },
    {
     "name": "stderr",
     "output_type": "stream",
     "text": [
      " 78%|███████▊  | 16058/20516 [10:43<02:58, 24.96it/s]"
     ]
    },
    {
     "name": "stdout",
     "output_type": "stream",
     "text": [
      "739520\n",
      "too many values to unpack (expected 2)\n"
     ]
    },
    {
     "name": "stderr",
     "output_type": "stream",
     "text": [
      " 81%|████████  | 16625/20516 [11:06<02:32, 25.53it/s]"
     ]
    },
    {
     "name": "stdout",
     "output_type": "stream",
     "text": [
      "740133\n",
      "too many values to unpack (expected 2)\n"
     ]
    },
    {
     "name": "stderr",
     "output_type": "stream",
     "text": [
      " 84%|████████▍ | 17195/20516 [11:28<02:09, 25.72it/s]"
     ]
    },
    {
     "name": "stdout",
     "output_type": "stream",
     "text": [
      "740742\n",
      "too many values to unpack (expected 2)\n"
     ]
    },
    {
     "name": "stderr",
     "output_type": "stream",
     "text": [
      " 85%|████████▍ | 17377/20516 [11:37<02:05, 25.10it/s]"
     ]
    },
    {
     "name": "stdout",
     "output_type": "stream",
     "text": [
      "740949\n",
      "too many values to unpack (expected 2)\n"
     ]
    },
    {
     "name": "stderr",
     "output_type": "stream",
     "text": [
      " 87%|████████▋ | 17815/20516 [11:54<01:46, 25.28it/s]"
     ]
    },
    {
     "name": "stdout",
     "output_type": "stream",
     "text": [
      "741415\n",
      "too many values to unpack (expected 2)\n"
     ]
    },
    {
     "name": "stderr",
     "output_type": "stream",
     "text": [
      " 88%|████████▊ | 18079/20516 [12:05<01:35, 25.42it/s]"
     ]
    },
    {
     "name": "stdout",
     "output_type": "stream",
     "text": [
      "741709\n",
      "too many values to unpack (expected 2)\n"
     ]
    },
    {
     "name": "stderr",
     "output_type": "stream",
     "text": [
      " 89%|████████▉ | 18220/20516 [12:10<01:35, 23.94it/s]"
     ]
    },
    {
     "name": "stdout",
     "output_type": "stream",
     "text": [
      "741882\n",
      "too many values to unpack (expected 2)\n"
     ]
    },
    {
     "name": "stderr",
     "output_type": "stream",
     "text": [
      " 92%|█████████▏| 18790/20516 [12:33<01:06, 25.89it/s]"
     ]
    },
    {
     "name": "stdout",
     "output_type": "stream",
     "text": [
      "742495\n",
      "too many values to unpack (expected 2)\n"
     ]
    },
    {
     "name": "stderr",
     "output_type": "stream",
     "text": [
      " 94%|█████████▎| 19213/20516 [12:50<00:51, 25.50it/s]"
     ]
    },
    {
     "name": "stdout",
     "output_type": "stream",
     "text": [
      "742965\n",
      "too many values to unpack (expected 2)\n"
     ]
    },
    {
     "name": "stderr",
     "output_type": "stream",
     "text": [
      " 94%|█████████▍| 19270/20516 [12:52<00:49, 25.21it/s]"
     ]
    },
    {
     "name": "stdout",
     "output_type": "stream",
     "text": [
      "743023\n",
      "too many values to unpack (expected 2)\n"
     ]
    },
    {
     "name": "stderr",
     "output_type": "stream",
     "text": [
      " 94%|█████████▍| 19288/20516 [12:53<00:48, 25.23it/s]"
     ]
    },
    {
     "name": "stdout",
     "output_type": "stream",
     "text": [
      "743052\n",
      "too many values to unpack (expected 2)\n",
      "743053\n",
      "too many values to unpack (expected 2)\n"
     ]
    },
    {
     "name": "stderr",
     "output_type": "stream",
     "text": [
      " 95%|█████████▍| 19480/20516 [13:00<00:40, 25.63it/s]"
     ]
    },
    {
     "name": "stdout",
     "output_type": "stream",
     "text": [
      "743248\n",
      "too many values to unpack (expected 2)\n"
     ]
    },
    {
     "name": "stderr",
     "output_type": "stream",
     "text": [
      "100%|██████████| 20516/20516 [13:41<00:00, 24.97it/s]\n"
     ]
    }
   ],
   "source": [
    "# def scmprun(year):\n",
    "year = 2011\n",
    "nerdf = utils.read_df_s3(f\"{pub.name}/ner/ner_{year}.csv\")\n",
    "maindf = utils.read_df_s3(f\"{pub.name}/{year}.csv\")\n",
    "nerdf[pub.uidcol] = nerdf[pub.uidcol].astype(str)\n",
    "maindf[pub.uidcol] = maindf[pub.uidcol].astype(str)\n",
    "nerdf = nerdf.rename({\"Unnamed: 0\": \"ner_index\"}, axis=1)\n",
    "maindf.progress_apply(get_doc_nerchars, axis=1)\n",
    "path = f\"../../data/{pub.name}/ner/ner_full_{year}.csv\"\n",
    "os.makedirs(os.path.dirname(path), exist_ok=True) \n",
    "nerdf.to_csv(path)\n",
    "utils.df_to_s3(nerdf, f\"{pub.name}/ner/ner_full_{year}.csv\")"
   ]
  },
  {
   "cell_type": "code",
   "execution_count": 19,
   "id": "bdc7cd96-fe06-4142-8465-d303dbd0f303",
   "metadata": {
    "collapsed": true,
    "jupyter": {
     "outputs_hidden": true
    },
    "tags": []
   },
   "outputs": [
    {
     "name": "stderr",
     "output_type": "stream",
     "text": [
      "  2%|▏         | 383/18033 [00:14<10:53, 27.03it/s]"
     ]
    },
    {
     "name": "stdout",
     "output_type": "stream",
     "text": [
      "757879\n",
      "too many values to unpack (expected 2)\n"
     ]
    },
    {
     "name": "stderr",
     "output_type": "stream",
     "text": [
      "  9%|▉         | 1635/18033 [01:00<10:04, 27.13it/s]"
     ]
    },
    {
     "name": "stdout",
     "output_type": "stream",
     "text": [
      "759222\n",
      "too many values to unpack (expected 2)\n"
     ]
    },
    {
     "name": "stderr",
     "output_type": "stream",
     "text": [
      " 11%|█         | 1938/18033 [01:11<09:42, 27.62it/s]"
     ]
    },
    {
     "name": "stdout",
     "output_type": "stream",
     "text": [
      "759539\n",
      "too many values to unpack (expected 2)\n"
     ]
    },
    {
     "name": "stderr",
     "output_type": "stream",
     "text": [
      " 17%|█▋        | 2996/18033 [01:50<06:25, 39.01it/s]"
     ]
    },
    {
     "name": "stdout",
     "output_type": "stream",
     "text": [
      "760728\n",
      "[E1041] Expected a string, Doc, or bytes as input, but got: <class 'float'>\n",
      "760729\n",
      "[E1041] Expected a string, Doc, or bytes as input, but got: <class 'float'>\n",
      "760730\n",
      "[E1041] Expected a string, Doc, or bytes as input, but got: <class 'float'>\n",
      "760735\n",
      "[E1041] Expected a string, Doc, or bytes as input, but got: <class 'float'>\n",
      "760736\n",
      "[E1041] Expected a string, Doc, or bytes as input, but got: <class 'float'>\n"
     ]
    },
    {
     "name": "stderr",
     "output_type": "stream",
     "text": [
      " 17%|█▋        | 3008/18033 [01:50<08:10, 30.65it/s]"
     ]
    },
    {
     "name": "stdout",
     "output_type": "stream",
     "text": [
      "760747\n",
      "too many values to unpack (expected 2)\n"
     ]
    },
    {
     "name": "stderr",
     "output_type": "stream",
     "text": [
      " 17%|█▋        | 3024/18033 [01:51<08:21, 29.92it/s]"
     ]
    },
    {
     "name": "stdout",
     "output_type": "stream",
     "text": [
      "760758\n",
      "[E1041] Expected a string, Doc, or bytes as input, but got: <class 'float'>\n"
     ]
    },
    {
     "name": "stderr",
     "output_type": "stream",
     "text": [
      " 18%|█▊        | 3327/18033 [02:02<08:14, 29.72it/s]"
     ]
    },
    {
     "name": "stdout",
     "output_type": "stream",
     "text": [
      "761094\n",
      "[E1041] Expected a string, Doc, or bytes as input, but got: <class 'float'>\n"
     ]
    },
    {
     "name": "stderr",
     "output_type": "stream",
     "text": [
      " 19%|█▉        | 3511/18033 [02:08<08:27, 28.64it/s]"
     ]
    },
    {
     "name": "stdout",
     "output_type": "stream",
     "text": [
      "761301\n",
      "[E1041] Expected a string, Doc, or bytes as input, but got: <class 'float'>\n"
     ]
    },
    {
     "name": "stderr",
     "output_type": "stream",
     "text": [
      " 21%|██        | 3794/18033 [02:19<06:38, 35.71it/s]"
     ]
    },
    {
     "name": "stdout",
     "output_type": "stream",
     "text": [
      "761608\n",
      "[E1041] Expected a string, Doc, or bytes as input, but got: <class 'float'>\n",
      "761609\n",
      "[E1041] Expected a string, Doc, or bytes as input, but got: <class 'float'>\n",
      "761610\n",
      "[E1041] Expected a string, Doc, or bytes as input, but got: <class 'float'>\n",
      "761611\n",
      "[E1041] Expected a string, Doc, or bytes as input, but got: <class 'float'>\n"
     ]
    },
    {
     "name": "stderr",
     "output_type": "stream",
     "text": [
      " 21%|██▏       | 3859/18033 [02:21<08:28, 27.87it/s]"
     ]
    },
    {
     "name": "stdout",
     "output_type": "stream",
     "text": [
      "761684\n",
      "too many values to unpack (expected 2)\n"
     ]
    },
    {
     "name": "stderr",
     "output_type": "stream",
     "text": [
      " 22%|██▏       | 3905/18033 [02:23<08:19, 28.28it/s]"
     ]
    },
    {
     "name": "stdout",
     "output_type": "stream",
     "text": [
      "761734\n",
      "[E1041] Expected a string, Doc, or bytes as input, but got: <class 'float'>\n"
     ]
    },
    {
     "name": "stderr",
     "output_type": "stream",
     "text": [
      " 23%|██▎       | 4134/18033 [02:31<07:54, 29.31it/s]"
     ]
    },
    {
     "name": "stdout",
     "output_type": "stream",
     "text": [
      "761995\n",
      "[E1041] Expected a string, Doc, or bytes as input, but got: <class 'float'>\n"
     ]
    },
    {
     "name": "stderr",
     "output_type": "stream",
     "text": [
      " 24%|██▍       | 4350/18033 [02:39<08:14, 27.65it/s]"
     ]
    },
    {
     "name": "stdout",
     "output_type": "stream",
     "text": [
      "762233\n",
      "too many values to unpack (expected 2)\n"
     ]
    },
    {
     "name": "stderr",
     "output_type": "stream",
     "text": [
      " 25%|██▍       | 4434/18033 [02:42<08:09, 27.77it/s]"
     ]
    },
    {
     "name": "stdout",
     "output_type": "stream",
     "text": [
      "762336\n",
      "too many values to unpack (expected 2)\n"
     ]
    },
    {
     "name": "stderr",
     "output_type": "stream",
     "text": [
      " 25%|██▍       | 4479/18033 [02:43<08:21, 27.00it/s]"
     ]
    },
    {
     "name": "stdout",
     "output_type": "stream",
     "text": [
      "762387\n",
      "too many values to unpack (expected 2)\n"
     ]
    },
    {
     "name": "stderr",
     "output_type": "stream",
     "text": [
      " 27%|██▋       | 4815/18033 [02:56<07:58, 27.62it/s]"
     ]
    },
    {
     "name": "stdout",
     "output_type": "stream",
     "text": [
      "762762\n",
      "too many values to unpack (expected 2)\n"
     ]
    },
    {
     "name": "stderr",
     "output_type": "stream",
     "text": [
      " 30%|██▉       | 5360/18033 [03:15<07:06, 29.75it/s]"
     ]
    },
    {
     "name": "stdout",
     "output_type": "stream",
     "text": [
      "763364\n",
      "[E1041] Expected a string, Doc, or bytes as input, but got: <class 'float'>\n"
     ]
    },
    {
     "name": "stderr",
     "output_type": "stream",
     "text": [
      " 30%|███       | 5416/18033 [03:17<07:05, 29.65it/s]"
     ]
    },
    {
     "name": "stdout",
     "output_type": "stream",
     "text": [
      "763427\n",
      "[E1041] Expected a string, Doc, or bytes as input, but got: <class 'float'>\n"
     ]
    },
    {
     "name": "stderr",
     "output_type": "stream",
     "text": [
      " 30%|███       | 5495/18033 [03:20<06:57, 30.04it/s]"
     ]
    },
    {
     "name": "stdout",
     "output_type": "stream",
     "text": [
      "763540\n",
      "[E1041] Expected a string, Doc, or bytes as input, but got: <class 'float'>\n"
     ]
    },
    {
     "name": "stderr",
     "output_type": "stream",
     "text": [
      " 31%|███       | 5617/18033 [03:25<06:45, 30.59it/s]"
     ]
    },
    {
     "name": "stdout",
     "output_type": "stream",
     "text": [
      "763676\n",
      "[E1041] Expected a string, Doc, or bytes as input, but got: <class 'float'>\n"
     ]
    },
    {
     "name": "stderr",
     "output_type": "stream",
     "text": [
      " 32%|███▏      | 5725/18033 [03:29<06:19, 32.45it/s]"
     ]
    },
    {
     "name": "stdout",
     "output_type": "stream",
     "text": [
      "763835\n",
      "[E1041] Expected a string, Doc, or bytes as input, but got: <class 'float'>\n",
      "763837\n",
      "[E1041] Expected a string, Doc, or bytes as input, but got: <class 'float'>\n"
     ]
    },
    {
     "name": "stderr",
     "output_type": "stream",
     "text": [
      " 32%|███▏      | 5782/18033 [03:31<06:43, 30.37it/s]"
     ]
    },
    {
     "name": "stdout",
     "output_type": "stream",
     "text": [
      "763886\n",
      "[E1041] Expected a string, Doc, or bytes as input, but got: <class 'float'>\n"
     ]
    },
    {
     "name": "stderr",
     "output_type": "stream",
     "text": [
      " 32%|███▏      | 5796/18033 [03:31<06:38, 30.68it/s]"
     ]
    },
    {
     "name": "stdout",
     "output_type": "stream",
     "text": [
      "763915\n",
      "[E1041] Expected a string, Doc, or bytes as input, but got: <class 'float'>\n"
     ]
    },
    {
     "name": "stderr",
     "output_type": "stream",
     "text": [
      " 33%|███▎      | 5935/18033 [03:36<04:58, 40.49it/s]"
     ]
    },
    {
     "name": "stdout",
     "output_type": "stream",
     "text": [
      "764074\n",
      "[E1041] Expected a string, Doc, or bytes as input, but got: <class 'float'>\n",
      "764073\n",
      "[E1041] Expected a string, Doc, or bytes as input, but got: <class 'float'>\n",
      "764075\n",
      "[E1041] Expected a string, Doc, or bytes as input, but got: <class 'float'>\n",
      "764076\n",
      "[E1041] Expected a string, Doc, or bytes as input, but got: <class 'float'>\n",
      "764079\n",
      "[E1041] Expected a string, Doc, or bytes as input, but got: <class 'float'>\n",
      "764077\n",
      "[E1041] Expected a string, Doc, or bytes as input, but got: <class 'float'>\n"
     ]
    },
    {
     "name": "stderr",
     "output_type": "stream",
     "text": [
      " 33%|███▎      | 5990/18033 [03:39<12:45, 15.74it/s]"
     ]
    },
    {
     "name": "stdout",
     "output_type": "stream",
     "text": [
      "764144\n",
      "too many values to unpack (expected 2)\n"
     ]
    },
    {
     "name": "stderr",
     "output_type": "stream",
     "text": [
      " 33%|███▎      | 6016/18033 [03:40<09:51, 20.33it/s]"
     ]
    },
    {
     "name": "stdout",
     "output_type": "stream",
     "text": [
      "764170\n",
      "[E1041] Expected a string, Doc, or bytes as input, but got: <class 'float'>\n"
     ]
    },
    {
     "name": "stderr",
     "output_type": "stream",
     "text": [
      " 34%|███▍      | 6115/18033 [03:44<06:25, 30.94it/s]"
     ]
    },
    {
     "name": "stdout",
     "output_type": "stream",
     "text": [
      "764274\n",
      "[E1041] Expected a string, Doc, or bytes as input, but got: <class 'float'>\n",
      "764275\n",
      "[E1041] Expected a string, Doc, or bytes as input, but got: <class 'float'>\n"
     ]
    },
    {
     "name": "stderr",
     "output_type": "stream",
     "text": [
      " 34%|███▍      | 6178/18033 [03:46<06:26, 30.64it/s]"
     ]
    },
    {
     "name": "stdout",
     "output_type": "stream",
     "text": [
      "764360\n",
      "[E1041] Expected a string, Doc, or bytes as input, but got: <class 'float'>\n"
     ]
    },
    {
     "name": "stderr",
     "output_type": "stream",
     "text": [
      " 35%|███▍      | 6277/18033 [03:49<06:41, 29.31it/s]"
     ]
    },
    {
     "name": "stdout",
     "output_type": "stream",
     "text": [
      "764467\n",
      "[E1041] Expected a string, Doc, or bytes as input, but got: <class 'float'>\n"
     ]
    },
    {
     "name": "stderr",
     "output_type": "stream",
     "text": [
      " 35%|███▍      | 6309/18033 [03:51<05:55, 32.94it/s]"
     ]
    },
    {
     "name": "stdout",
     "output_type": "stream",
     "text": [
      "764522\n",
      "[E1041] Expected a string, Doc, or bytes as input, but got: <class 'float'>\n",
      "764523\n",
      "[E1041] Expected a string, Doc, or bytes as input, but got: <class 'float'>\n"
     ]
    },
    {
     "name": "stderr",
     "output_type": "stream",
     "text": [
      " 36%|███▌      | 6404/18033 [03:54<06:00, 32.25it/s]"
     ]
    },
    {
     "name": "stdout",
     "output_type": "stream",
     "text": [
      "764646\n",
      "[E1041] Expected a string, Doc, or bytes as input, but got: <class 'float'>\n",
      "764645\n",
      "[E1041] Expected a string, Doc, or bytes as input, but got: <class 'float'>\n"
     ]
    },
    {
     "name": "stderr",
     "output_type": "stream",
     "text": [
      " 36%|███▌      | 6496/18033 [03:57<06:29, 29.59it/s]"
     ]
    },
    {
     "name": "stdout",
     "output_type": "stream",
     "text": [
      "764748\n",
      "[E1041] Expected a string, Doc, or bytes as input, but got: <class 'float'>\n",
      "764760\n",
      "[E1041] Expected a string, Doc, or bytes as input, but got: <class 'float'>\n"
     ]
    },
    {
     "name": "stderr",
     "output_type": "stream",
     "text": [
      " 36%|███▋      | 6540/18033 [03:59<04:38, 41.30it/s]"
     ]
    },
    {
     "name": "stdout",
     "output_type": "stream",
     "text": [
      "764802\n",
      "[E1041] Expected a string, Doc, or bytes as input, but got: <class 'float'>\n",
      "764804\n",
      "[E1041] Expected a string, Doc, or bytes as input, but got: <class 'float'>\n",
      "764805\n",
      "[E1041] Expected a string, Doc, or bytes as input, but got: <class 'float'>\n",
      "764806\n",
      "[E1041] Expected a string, Doc, or bytes as input, but got: <class 'float'>\n",
      "764803\n",
      "[E1041] Expected a string, Doc, or bytes as input, but got: <class 'float'>\n"
     ]
    },
    {
     "name": "stderr",
     "output_type": "stream",
     "text": [
      " 38%|███▊      | 6813/18033 [04:08<05:50, 31.99it/s]"
     ]
    },
    {
     "name": "stdout",
     "output_type": "stream",
     "text": [
      "765141\n",
      "[E1041] Expected a string, Doc, or bytes as input, but got: <class 'float'>\n",
      "765140\n",
      "[E1041] Expected a string, Doc, or bytes as input, but got: <class 'float'>\n"
     ]
    },
    {
     "name": "stderr",
     "output_type": "stream",
     "text": [
      " 39%|███▉      | 7006/18033 [04:15<06:08, 29.92it/s]"
     ]
    },
    {
     "name": "stdout",
     "output_type": "stream",
     "text": [
      "765382\n",
      "[E1041] Expected a string, Doc, or bytes as input, but got: <class 'float'>\n"
     ]
    },
    {
     "name": "stderr",
     "output_type": "stream",
     "text": [
      " 39%|███▉      | 7051/18033 [04:17<05:40, 32.23it/s]"
     ]
    },
    {
     "name": "stdout",
     "output_type": "stream",
     "text": [
      "765451\n",
      "[E1041] Expected a string, Doc, or bytes as input, but got: <class 'float'>\n",
      "765453\n",
      "[E1041] Expected a string, Doc, or bytes as input, but got: <class 'float'>\n"
     ]
    },
    {
     "name": "stderr",
     "output_type": "stream",
     "text": [
      " 40%|███▉      | 7173/18033 [04:21<05:25, 33.31it/s]"
     ]
    },
    {
     "name": "stdout",
     "output_type": "stream",
     "text": [
      "765594\n",
      "[E1041] Expected a string, Doc, or bytes as input, but got: <class 'float'>\n",
      "765595\n",
      "[E1041] Expected a string, Doc, or bytes as input, but got: <class 'float'>\n"
     ]
    },
    {
     "name": "stderr",
     "output_type": "stream",
     "text": [
      " 40%|████      | 7247/18033 [04:24<06:05, 29.51it/s]"
     ]
    },
    {
     "name": "stdout",
     "output_type": "stream",
     "text": [
      "765680\n",
      "[E1041] Expected a string, Doc, or bytes as input, but got: <class 'float'>\n"
     ]
    },
    {
     "name": "stderr",
     "output_type": "stream",
     "text": [
      " 41%|████      | 7315/18033 [04:26<06:00, 29.73it/s]"
     ]
    },
    {
     "name": "stdout",
     "output_type": "stream",
     "text": [
      "765767\n",
      "[E1041] Expected a string, Doc, or bytes as input, but got: <class 'float'>\n"
     ]
    },
    {
     "name": "stderr",
     "output_type": "stream",
     "text": [
      " 41%|████      | 7340/18033 [04:27<04:33, 39.17it/s]"
     ]
    },
    {
     "name": "stdout",
     "output_type": "stream",
     "text": [
      "765794\n",
      "[E1041] Expected a string, Doc, or bytes as input, but got: <class 'float'>\n",
      "765795\n",
      "[E1041] Expected a string, Doc, or bytes as input, but got: <class 'float'>\n",
      "765798\n",
      "[E1041] Expected a string, Doc, or bytes as input, but got: <class 'float'>\n",
      "765799\n",
      "[E1041] Expected a string, Doc, or bytes as input, but got: <class 'float'>\n",
      "765801\n",
      "[E1041] Expected a string, Doc, or bytes as input, but got: <class 'float'>\n",
      "765797\n",
      "[E1041] Expected a string, Doc, or bytes as input, but got: <class 'float'>\n"
     ]
    },
    {
     "name": "stderr",
     "output_type": "stream",
     "text": [
      " 41%|████      | 7368/18033 [04:28<05:26, 32.64it/s]"
     ]
    },
    {
     "name": "stdout",
     "output_type": "stream",
     "text": [
      "765835\n",
      "[E1041] Expected a string, Doc, or bytes as input, but got: <class 'float'>\n",
      "765840\n",
      "[E1041] Expected a string, Doc, or bytes as input, but got: <class 'float'>\n",
      "765845\n",
      "[E1041] Expected a string, Doc, or bytes as input, but got: <class 'float'>\n"
     ]
    },
    {
     "name": "stderr",
     "output_type": "stream",
     "text": [
      " 41%|████      | 7384/18033 [04:29<05:44, 30.92it/s]"
     ]
    },
    {
     "name": "stdout",
     "output_type": "stream",
     "text": [
      "765848\n",
      "[E1041] Expected a string, Doc, or bytes as input, but got: <class 'float'>\n"
     ]
    },
    {
     "name": "stderr",
     "output_type": "stream",
     "text": [
      " 41%|████▏     | 7462/18033 [04:31<06:03, 29.08it/s]"
     ]
    },
    {
     "name": "stdout",
     "output_type": "stream",
     "text": [
      "765935\n",
      "[E1041] Expected a string, Doc, or bytes as input, but got: <class 'float'>\n"
     ]
    },
    {
     "name": "stderr",
     "output_type": "stream",
     "text": [
      " 42%|████▏     | 7497/18033 [04:33<05:52, 29.87it/s]"
     ]
    },
    {
     "name": "stdout",
     "output_type": "stream",
     "text": [
      "765968\n",
      "[E1041] Expected a string, Doc, or bytes as input, but got: <class 'float'>\n"
     ]
    },
    {
     "name": "stderr",
     "output_type": "stream",
     "text": [
      " 42%|████▏     | 7537/18033 [04:34<04:15, 41.15it/s]"
     ]
    },
    {
     "name": "stdout",
     "output_type": "stream",
     "text": [
      "766023\n",
      "[E1041] Expected a string, Doc, or bytes as input, but got: <class 'float'>\n",
      "766022\n",
      "[E1041] Expected a string, Doc, or bytes as input, but got: <class 'float'>\n",
      "766024\n",
      "[E1041] Expected a string, Doc, or bytes as input, but got: <class 'float'>\n",
      "766026\n",
      "[E1041] Expected a string, Doc, or bytes as input, but got: <class 'float'>\n",
      "766025\n",
      "[E1041] Expected a string, Doc, or bytes as input, but got: <class 'float'>\n",
      "766029\n",
      "[E1041] Expected a string, Doc, or bytes as input, but got: <class 'float'>\n"
     ]
    },
    {
     "name": "stderr",
     "output_type": "stream",
     "text": [
      " 42%|████▏     | 7593/18033 [04:36<05:41, 30.56it/s]"
     ]
    },
    {
     "name": "stdout",
     "output_type": "stream",
     "text": [
      "766103\n",
      "[E1041] Expected a string, Doc, or bytes as input, but got: <class 'float'>\n"
     ]
    },
    {
     "name": "stderr",
     "output_type": "stream",
     "text": [
      " 42%|████▏     | 7628/18033 [04:37<03:47, 45.81it/s]"
     ]
    },
    {
     "name": "stdout",
     "output_type": "stream",
     "text": [
      "766142\n",
      "[E1041] Expected a string, Doc, or bytes as input, but got: <class 'float'>\n",
      "766141\n",
      "[E1041] Expected a string, Doc, or bytes as input, but got: <class 'float'>\n",
      "766140\n",
      "[E1041] Expected a string, Doc, or bytes as input, but got: <class 'float'>\n",
      "766144\n",
      "[E1041] Expected a string, Doc, or bytes as input, but got: <class 'float'>\n",
      "766145\n",
      "[E1041] Expected a string, Doc, or bytes as input, but got: <class 'float'>\n",
      "766146\n",
      "[E1041] Expected a string, Doc, or bytes as input, but got: <class 'float'>\n",
      "766147\n",
      "[E1041] Expected a string, Doc, or bytes as input, but got: <class 'float'>\n"
     ]
    },
    {
     "name": "stderr",
     "output_type": "stream",
     "text": [
      " 43%|████▎     | 7702/18033 [04:39<05:51, 29.41it/s]"
     ]
    },
    {
     "name": "stdout",
     "output_type": "stream",
     "text": [
      "766232\n",
      "[E1041] Expected a string, Doc, or bytes as input, but got: <class 'float'>\n"
     ]
    },
    {
     "name": "stderr",
     "output_type": "stream",
     "text": [
      " 43%|████▎     | 7716/18033 [04:40<05:49, 29.56it/s]"
     ]
    },
    {
     "name": "stdout",
     "output_type": "stream",
     "text": [
      "766245\n",
      "[E1041] Expected a string, Doc, or bytes as input, but got: <class 'float'>\n"
     ]
    },
    {
     "name": "stderr",
     "output_type": "stream",
     "text": [
      " 43%|████▎     | 7745/18033 [04:41<05:14, 32.74it/s]"
     ]
    },
    {
     "name": "stdout",
     "output_type": "stream",
     "text": [
      "766311\n",
      "[E1041] Expected a string, Doc, or bytes as input, but got: <class 'float'>\n",
      "766312\n",
      "[E1041] Expected a string, Doc, or bytes as input, but got: <class 'float'>\n"
     ]
    },
    {
     "name": "stderr",
     "output_type": "stream",
     "text": [
      " 43%|████▎     | 7757/18033 [04:41<05:09, 33.24it/s]"
     ]
    },
    {
     "name": "stdout",
     "output_type": "stream",
     "text": [
      "766313\n",
      "[E1041] Expected a string, Doc, or bytes as input, but got: <class 'float'>\n",
      "766314\n",
      "[E1041] Expected a string, Doc, or bytes as input, but got: <class 'float'>\n"
     ]
    },
    {
     "name": "stderr",
     "output_type": "stream",
     "text": [
      " 43%|████▎     | 7831/18033 [04:44<05:17, 32.10it/s]"
     ]
    },
    {
     "name": "stdout",
     "output_type": "stream",
     "text": [
      "766397\n",
      "[E1041] Expected a string, Doc, or bytes as input, but got: <class 'float'>\n",
      "766400\n",
      "[E1041] Expected a string, Doc, or bytes as input, but got: <class 'float'>\n"
     ]
    },
    {
     "name": "stderr",
     "output_type": "stream",
     "text": [
      " 44%|████▍     | 7910/18033 [04:47<05:02, 33.50it/s]"
     ]
    },
    {
     "name": "stdout",
     "output_type": "stream",
     "text": [
      "766497\n",
      "[E1041] Expected a string, Doc, or bytes as input, but got: <class 'float'>\n",
      "766498\n",
      "[E1041] Expected a string, Doc, or bytes as input, but got: <class 'float'>\n"
     ]
    },
    {
     "name": "stderr",
     "output_type": "stream",
     "text": [
      " 44%|████▍     | 7921/18033 [04:47<04:11, 40.27it/s]"
     ]
    },
    {
     "name": "stdout",
     "output_type": "stream",
     "text": [
      "766504\n",
      "[E1041] Expected a string, Doc, or bytes as input, but got: <class 'float'>\n",
      "766505\n",
      "[E1041] Expected a string, Doc, or bytes as input, but got: <class 'float'>\n",
      "766506\n",
      "[E1041] Expected a string, Doc, or bytes as input, but got: <class 'float'>\n",
      "766507\n",
      "[E1041] Expected a string, Doc, or bytes as input, but got: <class 'float'>\n"
     ]
    },
    {
     "name": "stderr",
     "output_type": "stream",
     "text": [
      " 45%|████▍     | 8047/18033 [04:51<05:07, 32.52it/s]"
     ]
    },
    {
     "name": "stdout",
     "output_type": "stream",
     "text": [
      "766649\n",
      "[E1041] Expected a string, Doc, or bytes as input, but got: <class 'float'>\n",
      "766650\n",
      "[E1041] Expected a string, Doc, or bytes as input, but got: <class 'float'>\n"
     ]
    },
    {
     "name": "stderr",
     "output_type": "stream",
     "text": [
      " 45%|████▍     | 8096/18033 [04:53<05:02, 32.88it/s]"
     ]
    },
    {
     "name": "stdout",
     "output_type": "stream",
     "text": [
      "766698\n",
      "[E1041] Expected a string, Doc, or bytes as input, but got: <class 'float'>\n",
      "766699\n",
      "[E1041] Expected a string, Doc, or bytes as input, but got: <class 'float'>\n",
      "766700\n",
      "[E1041] Expected a string, Doc, or bytes as input, but got: <class 'float'>\n"
     ]
    },
    {
     "name": "stderr",
     "output_type": "stream",
     "text": [
      " 45%|████▌     | 8122/18033 [04:54<05:29, 30.10it/s]"
     ]
    },
    {
     "name": "stdout",
     "output_type": "stream",
     "text": [
      "766734\n",
      "[E1041] Expected a string, Doc, or bytes as input, but got: <class 'float'>\n"
     ]
    },
    {
     "name": "stderr",
     "output_type": "stream",
     "text": [
      " 45%|████▌     | 8192/18033 [04:56<04:32, 36.16it/s]"
     ]
    },
    {
     "name": "stdout",
     "output_type": "stream",
     "text": [
      "766813\n",
      "[E1041] Expected a string, Doc, or bytes as input, but got: <class 'float'>\n",
      "766814\n",
      "[E1041] Expected a string, Doc, or bytes as input, but got: <class 'float'>\n",
      "766817\n",
      "[E1041] Expected a string, Doc, or bytes as input, but got: <class 'float'>\n",
      "766815\n",
      "[E1041] Expected a string, Doc, or bytes as input, but got: <class 'float'>\n",
      "766816\n",
      "[E1041] Expected a string, Doc, or bytes as input, but got: <class 'float'>\n"
     ]
    },
    {
     "name": "stderr",
     "output_type": "stream",
     "text": [
      " 45%|████▌     | 8201/18033 [04:57<04:14, 38.58it/s]"
     ]
    },
    {
     "name": "stdout",
     "output_type": "stream",
     "text": [
      "766823\n",
      "[E1041] Expected a string, Doc, or bytes as input, but got: <class 'float'>\n"
     ]
    },
    {
     "name": "stderr",
     "output_type": "stream",
     "text": [
      " 46%|████▋     | 8381/18033 [05:03<05:20, 30.12it/s]"
     ]
    },
    {
     "name": "stdout",
     "output_type": "stream",
     "text": [
      "767032\n",
      "[E1041] Expected a string, Doc, or bytes as input, but got: <class 'float'>\n"
     ]
    },
    {
     "name": "stderr",
     "output_type": "stream",
     "text": [
      " 49%|████▉     | 8895/18033 [05:22<05:35, 27.24it/s]"
     ]
    },
    {
     "name": "stdout",
     "output_type": "stream",
     "text": [
      "767582\n",
      "too many values to unpack (expected 2)\n"
     ]
    },
    {
     "name": "stderr",
     "output_type": "stream",
     "text": [
      " 59%|█████▉    | 10630/18033 [06:25<04:26, 27.79it/s]"
     ]
    },
    {
     "name": "stdout",
     "output_type": "stream",
     "text": [
      "769470\n",
      "too many values to unpack (expected 2)\n",
      "769478\n",
      "too many values to unpack (expected 2)\n"
     ]
    },
    {
     "name": "stderr",
     "output_type": "stream",
     "text": [
      " 69%|██████▊   | 12361/18033 [07:29<03:27, 27.31it/s]"
     ]
    },
    {
     "name": "stdout",
     "output_type": "stream",
     "text": [
      "771371\n",
      "too many values to unpack (expected 2)\n"
     ]
    },
    {
     "name": "stderr",
     "output_type": "stream",
     "text": [
      " 70%|███████   | 12688/18033 [07:41<03:10, 28.00it/s]"
     ]
    },
    {
     "name": "stdout",
     "output_type": "stream",
     "text": [
      "771739\n",
      "too many values to unpack (expected 2)\n"
     ]
    },
    {
     "name": "stderr",
     "output_type": "stream",
     "text": [
      " 71%|███████▏  | 12883/18033 [07:48<03:06, 27.60it/s]"
     ]
    },
    {
     "name": "stdout",
     "output_type": "stream",
     "text": [
      "771944\n",
      "too many values to unpack (expected 2)\n"
     ]
    },
    {
     "name": "stderr",
     "output_type": "stream",
     "text": [
      " 73%|███████▎  | 13084/18033 [07:56<02:57, 27.86it/s]"
     ]
    },
    {
     "name": "stdout",
     "output_type": "stream",
     "text": [
      "772156\n",
      "too many values to unpack (expected 2)\n"
     ]
    },
    {
     "name": "stderr",
     "output_type": "stream",
     "text": [
      " 76%|███████▌  | 13690/18033 [08:18<02:43, 26.64it/s]"
     ]
    },
    {
     "name": "stdout",
     "output_type": "stream",
     "text": [
      "772956\n",
      "too many values to unpack (expected 2)\n"
     ]
    },
    {
     "name": "stderr",
     "output_type": "stream",
     "text": [
      " 77%|███████▋  | 13855/18033 [08:24<02:29, 27.97it/s]"
     ]
    },
    {
     "name": "stdout",
     "output_type": "stream",
     "text": [
      "773149\n",
      "too many values to unpack (expected 2)\n"
     ]
    },
    {
     "name": "stderr",
     "output_type": "stream",
     "text": [
      " 78%|███████▊  | 13996/18033 [08:29<02:25, 27.78it/s]"
     ]
    },
    {
     "name": "stdout",
     "output_type": "stream",
     "text": [
      "773298\n",
      "too many values to unpack (expected 2)\n"
     ]
    },
    {
     "name": "stderr",
     "output_type": "stream",
     "text": [
      " 78%|███████▊  | 14077/18033 [08:32<02:25, 27.24it/s]"
     ]
    },
    {
     "name": "stdout",
     "output_type": "stream",
     "text": [
      "773382\n",
      "too many values to unpack (expected 2)\n"
     ]
    },
    {
     "name": "stderr",
     "output_type": "stream",
     "text": [
      " 79%|███████▉  | 14245/18033 [08:38<02:15, 28.05it/s]"
     ]
    },
    {
     "name": "stdout",
     "output_type": "stream",
     "text": [
      "773565\n",
      "too many values to unpack (expected 2)\n"
     ]
    },
    {
     "name": "stderr",
     "output_type": "stream",
     "text": [
      " 79%|███████▉  | 14283/18033 [08:39<02:06, 29.57it/s]"
     ]
    },
    {
     "name": "stdout",
     "output_type": "stream",
     "text": [
      "773603\n",
      "[E1041] Expected a string, Doc, or bytes as input, but got: <class 'float'>\n"
     ]
    },
    {
     "name": "stderr",
     "output_type": "stream",
     "text": [
      " 80%|████████  | 14499/18033 [08:47<02:05, 28.13it/s]"
     ]
    },
    {
     "name": "stdout",
     "output_type": "stream",
     "text": [
      "773846\n",
      "too many values to unpack (expected 2)\n"
     ]
    },
    {
     "name": "stderr",
     "output_type": "stream",
     "text": [
      " 81%|████████  | 14610/18033 [08:51<01:38, 34.84it/s]"
     ]
    },
    {
     "name": "stdout",
     "output_type": "stream",
     "text": [
      "773963\n",
      "[E1041] Expected a string, Doc, or bytes as input, but got: <class 'float'>\n",
      "773966\n",
      "[E1041] Expected a string, Doc, or bytes as input, but got: <class 'float'>\n",
      "773969\n",
      "[E1041] Expected a string, Doc, or bytes as input, but got: <class 'float'>\n"
     ]
    },
    {
     "name": "stderr",
     "output_type": "stream",
     "text": [
      " 84%|████████▍ | 15109/18033 [09:09<01:44, 27.86it/s]"
     ]
    },
    {
     "name": "stdout",
     "output_type": "stream",
     "text": [
      "774513\n",
      "too many values to unpack (expected 2)\n"
     ]
    },
    {
     "name": "stderr",
     "output_type": "stream",
     "text": [
      " 88%|████████▊ | 15915/18033 [09:39<02:12, 15.96it/s]"
     ]
    },
    {
     "name": "stdout",
     "output_type": "stream",
     "text": [
      "775377\n",
      "too many values to unpack (expected 2)\n"
     ]
    },
    {
     "name": "stderr",
     "output_type": "stream",
     "text": [
      " 89%|████████▉ | 16124/18033 [09:47<01:09, 27.42it/s]"
     ]
    },
    {
     "name": "stdout",
     "output_type": "stream",
     "text": [
      "775602\n",
      "too many values to unpack (expected 2)\n"
     ]
    },
    {
     "name": "stderr",
     "output_type": "stream",
     "text": [
      " 92%|█████████▏| 16535/18033 [10:02<00:55, 26.78it/s]"
     ]
    },
    {
     "name": "stdout",
     "output_type": "stream",
     "text": [
      "776046\n",
      "too many values to unpack (expected 2)\n"
     ]
    },
    {
     "name": "stderr",
     "output_type": "stream",
     "text": [
      " 92%|█████████▏| 16622/18033 [10:06<00:51, 27.46it/s]"
     ]
    },
    {
     "name": "stdout",
     "output_type": "stream",
     "text": [
      "776139\n",
      "too many values to unpack (expected 2)\n"
     ]
    },
    {
     "name": "stderr",
     "output_type": "stream",
     "text": [
      " 94%|█████████▍| 16937/18033 [10:17<00:40, 27.10it/s]"
     ]
    },
    {
     "name": "stdout",
     "output_type": "stream",
     "text": [
      "776480\n",
      "too many values to unpack (expected 2)\n"
     ]
    },
    {
     "name": "stderr",
     "output_type": "stream",
     "text": [
      " 97%|█████████▋| 17420/18033 [10:35<00:21, 28.05it/s]"
     ]
    },
    {
     "name": "stdout",
     "output_type": "stream",
     "text": [
      "777007\n",
      "too many values to unpack (expected 2)\n"
     ]
    },
    {
     "name": "stderr",
     "output_type": "stream",
     "text": [
      " 97%|█████████▋| 17552/18033 [10:39<00:17, 27.51it/s]"
     ]
    },
    {
     "name": "stdout",
     "output_type": "stream",
     "text": [
      "777157\n",
      "too many values to unpack (expected 2)\n"
     ]
    },
    {
     "name": "stderr",
     "output_type": "stream",
     "text": [
      "100%|█████████▉| 18014/18033 [10:56<00:00, 27.70it/s]"
     ]
    },
    {
     "name": "stdout",
     "output_type": "stream",
     "text": [
      "777651\n",
      "too many values to unpack (expected 2)\n"
     ]
    },
    {
     "name": "stderr",
     "output_type": "stream",
     "text": [
      "100%|██████████| 18033/18033 [10:57<00:00, 27.43it/s]\n"
     ]
    }
   ],
   "source": [
    "year = 2012\n",
    "nerdf = utils.read_df_s3(f\"{pub.name}/ner/ner_{year}.csv\")\n",
    "maindf = utils.read_df_s3(f\"{pub.name}/{year}.csv\")\n",
    "nerdf[pub.uidcol] = nerdf[pub.uidcol].astype(str)\n",
    "maindf[pub.uidcol] = maindf[pub.uidcol].astype(str)\n",
    "nerdf = nerdf.rename({\"Unnamed: 0\": \"ner_index\"}, axis=1)\n",
    "maindf.progress_apply(get_doc_nerchars, axis=1)\n",
    "path = f\"../../data/{pub.name}/ner/ner_full_{year}.csv\"\n",
    "os.makedirs(os.path.dirname(path), exist_ok=True) \n",
    "nerdf.to_csv(path)\n",
    "utils.df_to_s3(nerdf, f\"{pub.name}/ner/ner_full_{year}.csv\")"
   ]
  },
  {
   "cell_type": "code",
   "execution_count": 21,
   "id": "d5cab52a-b06c-41dc-8163-f153803949a1",
   "metadata": {},
   "outputs": [
    {
     "name": "stderr",
     "output_type": "stream",
     "text": [
      "100%|██████████| 22948/22948 [17:10<00:00, 22.26it/s]\n"
     ]
    }
   ],
   "source": [
    "year = 2013\n",
    "nerdf = utils.read_df_s3(f\"{pub.name}/ner/ner_{year}.csv\")\n",
    "maindf = utils.read_df_s3(f\"{pub.name}/{year}.csv\")\n",
    "nerdf[pub.uidcol] = nerdf[pub.uidcol].astype(str)\n",
    "maindf[pub.uidcol] = maindf[pub.uidcol].astype(str)\n",
    "nerdf = nerdf.rename({\"Unnamed: 0\": \"ner_index\"}, axis=1)\n",
    "maindf.progress_apply(get_doc_nerchars, axis=1)\n",
    "path = f\"../../data/{pub.name}/ner/ner_full_{year}.csv\"\n",
    "os.makedirs(os.path.dirname(path), exist_ok=True) \n",
    "nerdf.to_csv(path)\n",
    "utils.df_to_s3(nerdf, f\"{pub.name}/ner/ner_full_{year}.csv\")"
   ]
  },
  {
   "cell_type": "code",
   "execution_count": 22,
   "id": "1b77a57b-5cb2-45c2-8572-4846d1bf915b",
   "metadata": {},
   "outputs": [
    {
     "name": "stderr",
     "output_type": "stream",
     "text": [
      "100%|██████████| 26399/26399 [15:21<00:00, 28.64it/s] \n"
     ]
    }
   ],
   "source": [
    "year = 2014\n",
    "nerdf = utils.read_df_s3(f\"{pub.name}/ner/ner_{year}.csv\")\n",
    "maindf = utils.read_df_s3(f\"{pub.name}/{year}.csv\")\n",
    "nerdf[pub.uidcol] = nerdf[pub.uidcol].astype(str)\n",
    "maindf[pub.uidcol] = maindf[pub.uidcol].astype(str)\n",
    "nerdf = nerdf.rename({\"Unnamed: 0\": \"ner_index\"}, axis=1)\n",
    "maindf.progress_apply(get_doc_nerchars, axis=1)\n",
    "path = f\"../../data/{pub.name}/ner/ner_full_{year}.csv\"\n",
    "os.makedirs(os.path.dirname(path), exist_ok=True) \n",
    "nerdf.to_csv(path)\n",
    "utils.df_to_s3(nerdf, f\"{pub.name}/ner/ner_full_{year}.csv\")"
   ]
  },
  {
   "cell_type": "code",
   "execution_count": 23,
   "id": "998370d2-ba97-42d7-8501-07bc5ab12f27",
   "metadata": {},
   "outputs": [
    {
     "name": "stderr",
     "output_type": "stream",
     "text": [
      "100%|██████████| 24084/24084 [18:08<00:00, 22.13it/s]\n"
     ]
    }
   ],
   "source": [
    "year = 2015\n",
    "nerdf = utils.read_df_s3(f\"{pub.name}/ner/ner_{year}.csv\")\n",
    "maindf = utils.read_df_s3(f\"{pub.name}/{year}.csv\")\n",
    "nerdf[pub.uidcol] = nerdf[pub.uidcol].astype(str)\n",
    "maindf[pub.uidcol] = maindf[pub.uidcol].astype(str)\n",
    "nerdf = nerdf.rename({\"Unnamed: 0\": \"ner_index\"}, axis=1)\n",
    "maindf.progress_apply(get_doc_nerchars, axis=1)\n",
    "path = f\"../../data/{pub.name}/ner/ner_full_{year}.csv\"\n",
    "os.makedirs(os.path.dirname(path), exist_ok=True) \n",
    "nerdf.to_csv(path)\n",
    "utils.df_to_s3(nerdf, f\"{pub.name}/ner/ner_full_{year}.csv\")"
   ]
  },
  {
   "cell_type": "code",
   "execution_count": 24,
   "id": "c196380c-7eeb-4105-9d06-e5f8940f69a1",
   "metadata": {},
   "outputs": [
    {
     "name": "stderr",
     "output_type": "stream",
     "text": [
      "100%|██████████| 19616/19616 [12:27<00:00, 26.26it/s]\n"
     ]
    }
   ],
   "source": [
    "year = 2016\n",
    "nerdf = utils.read_df_s3(f\"{pub.name}/ner/ner_{year}.csv\")\n",
    "maindf = utils.read_df_s3(f\"{pub.name}/{year}.csv\")\n",
    "nerdf[pub.uidcol] = nerdf[pub.uidcol].astype(str)\n",
    "maindf[pub.uidcol] = maindf[pub.uidcol].astype(str)\n",
    "nerdf = nerdf.rename({\"Unnamed: 0\": \"ner_index\"}, axis=1)\n",
    "maindf.progress_apply(get_doc_nerchars, axis=1)\n",
    "path = f\"../../data/{pub.name}/ner/ner_full_{year}.csv\"\n",
    "os.makedirs(os.path.dirname(path), exist_ok=True) \n",
    "nerdf.to_csv(path)\n",
    "utils.df_to_s3(nerdf, f\"{pub.name}/ner/ner_full_{year}.csv\")"
   ]
  },
  {
   "cell_type": "code",
   "execution_count": 25,
   "id": "a7fa91a8-43b2-4999-863f-a21fb03e4bea",
   "metadata": {},
   "outputs": [
    {
     "name": "stderr",
     "output_type": "stream",
     "text": [
      "100%|██████████| 24901/24901 [24:02<00:00, 17.26it/s]\n"
     ]
    }
   ],
   "source": [
    "year = 2017\n",
    "nerdf = utils.read_df_s3(f\"{pub.name}/ner/ner_{year}.csv\")\n",
    "maindf = utils.read_df_s3(f\"{pub.name}/{year}.csv\")\n",
    "nerdf[pub.uidcol] = nerdf[pub.uidcol].astype(str)\n",
    "maindf[pub.uidcol] = maindf[pub.uidcol].astype(str)\n",
    "nerdf = nerdf.rename({\"Unnamed: 0\": \"ner_index\"}, axis=1)\n",
    "maindf.progress_apply(get_doc_nerchars, axis=1)\n",
    "path = f\"../../data/{pub.name}/ner/ner_full_{year}.csv\"\n",
    "os.makedirs(os.path.dirname(path), exist_ok=True) \n",
    "nerdf.to_csv(path)\n",
    "utils.df_to_s3(nerdf, f\"{pub.name}/ner/ner_full_{year}.csv\")"
   ]
  },
  {
   "cell_type": "code",
   "execution_count": 26,
   "id": "26d80744-a61b-4168-9cbf-999b33888ba3",
   "metadata": {},
   "outputs": [
    {
     "name": "stderr",
     "output_type": "stream",
     "text": [
      "100%|██████████| 24980/24980 [26:04<00:00, 15.96it/s]\n"
     ]
    }
   ],
   "source": [
    "year = 2018\n",
    "nerdf = utils.read_df_s3(f\"{pub.name}/ner/ner_{year}.csv\")\n",
    "maindf = utils.read_df_s3(f\"{pub.name}/{year}.csv\")\n",
    "nerdf[pub.uidcol] = nerdf[pub.uidcol].astype(str)\n",
    "maindf[pub.uidcol] = maindf[pub.uidcol].astype(str)\n",
    "nerdf = nerdf.rename({\"Unnamed: 0\": \"ner_index\"}, axis=1)\n",
    "maindf.progress_apply(get_doc_nerchars, axis=1)\n",
    "path = f\"../../data/{pub.name}/ner/ner_full_{year}.csv\"\n",
    "os.makedirs(os.path.dirname(path), exist_ok=True) \n",
    "nerdf.to_csv(path)\n",
    "utils.df_to_s3(nerdf, f\"{pub.name}/ner/ner_full_{year}.csv\")"
   ]
  },
  {
   "cell_type": "code",
   "execution_count": 27,
   "id": "101823c7-21f0-40d5-8a91-808529f2b229",
   "metadata": {},
   "outputs": [
    {
     "name": "stderr",
     "output_type": "stream",
     "text": [
      "100%|██████████| 25913/25913 [31:07<00:00, 13.88it/s]\n"
     ]
    }
   ],
   "source": [
    "year = 2019\n",
    "nerdf = utils.read_df_s3(f\"{pub.name}/ner/ner_{year}.csv\")\n",
    "maindf = utils.read_df_s3(f\"{pub.name}/{year}.csv\")\n",
    "nerdf[pub.uidcol] = nerdf[pub.uidcol].astype(str)\n",
    "maindf[pub.uidcol] = maindf[pub.uidcol].astype(str)\n",
    "nerdf = nerdf.rename({\"Unnamed: 0\": \"ner_index\"}, axis=1)\n",
    "maindf.progress_apply(get_doc_nerchars, axis=1)\n",
    "path = f\"../../data/{pub.name}/ner/ner_full_{year}.csv\"\n",
    "os.makedirs(os.path.dirname(path), exist_ok=True) \n",
    "nerdf.to_csv(path)\n",
    "utils.df_to_s3(nerdf, f\"{pub.name}/ner/ner_full_{year}.csv\")"
   ]
  },
  {
   "cell_type": "code",
   "execution_count": 6,
   "id": "1052d676-9844-43b2-8984-9c79896624a8",
   "metadata": {},
   "outputs": [
    {
     "name": "stderr",
     "output_type": "stream",
     "text": [
      "100%|██████████| 28297/28297 [34:55<00:00, 13.50it/s] \n"
     ]
    }
   ],
   "source": [
    "year = 2020\n",
    "nerdf = utils.read_df_s3(f\"{pub.name}/ner/ner_{year}.csv\")\n",
    "maindf = utils.read_df_s3(f\"{pub.name}/{year}.csv\")\n",
    "nerdf[pub.uidcol] = nerdf[pub.uidcol].astype(str)\n",
    "maindf[pub.uidcol] = maindf[pub.uidcol].astype(str)\n",
    "nerdf = nerdf.rename({\"Unnamed: 0\": \"ner_index\"}, axis=1)\n",
    "maindf.progress_apply(get_doc_nerchars, axis=1)\n",
    "path = f\"../../data/{pub.name}/ner/ner_full_{year}.csv\"\n",
    "os.makedirs(os.path.dirname(path), exist_ok=True) \n",
    "nerdf.to_csv(path)\n",
    "utils.df_to_s3(nerdf, f\"{pub.name}/ner/ner_full_{year}.csv\")"
   ]
  },
  {
   "cell_type": "code",
   "execution_count": 4,
   "id": "fe7a20f6-53b5-4947-8d1c-25276d0ea9f7",
   "metadata": {},
   "outputs": [
    {
     "ename": "NameError",
     "evalue": "name 'pub' is not defined",
     "output_type": "error",
     "traceback": [
      "\u001b[0;31m---------------------------------------------------------------------------\u001b[0m",
      "\u001b[0;31mNameError\u001b[0m                                 Traceback (most recent call last)",
      "Input \u001b[0;32mIn [4]\u001b[0m, in \u001b[0;36m<cell line: 1>\u001b[0;34m()\u001b[0m\n\u001b[0;32m----> 1\u001b[0m \u001b[43mpub\u001b[49m\n",
      "\u001b[0;31mNameError\u001b[0m: name 'pub' is not defined"
     ]
    }
   ],
   "source": [
    "start =0\n",
    "blocksize = 200\n",
    "for i in tqdm(range(start, len(maindf), blocksize)):\n",
    "    idx = maindf.iloc[i:i+blocksize][pub.uidcol]\n",
    "    maindf.iloc[i:i+blocksize].apply(get_doc_nerchars, axis=1)\n",
    "    nerdf[nerdf[pub.uidcol].isin(idx)].to_csv(f\"../../data/{pub.name}/ner/ner_full{i}.csv\")"
   ]
  }
 ],
 "metadata": {
  "kernelspec": {
   "display_name": "conda_nlp",
   "language": "python",
   "name": "conda_nlp"
  },
  "language_info": {
   "codemirror_mode": {
    "name": "ipython",
    "version": 3
   },
   "file_extension": ".py",
   "mimetype": "text/x-python",
   "name": "python",
   "nbconvert_exporter": "python",
   "pygments_lexer": "ipython3",
   "version": "3.10.5"
  }
 },
 "nbformat": 4,
 "nbformat_minor": 5
}
