{
 "cells": [
  {
   "cell_type": "code",
   "execution_count": 50,
   "id": "a25e972b",
   "metadata": {},
   "outputs": [],
   "source": [
    "import boto3\n",
    "import os\n",
    "import pandas as pd\n",
    "import time\n",
    "import spacy\n",
    "from quotes import quote_extractor"
   ]
  },
  {
   "cell_type": "code",
   "execution_count": 40,
   "id": "adcb2bc8",
   "metadata": {},
   "outputs": [],
   "source": [
    "year = 2011\n",
    "paper = \"scmp\"\n",
    "bucket = \"newyorktime\"\n",
    "key = f\"{paper}/{year}.csv\""
   ]
  },
  {
   "cell_type": "code",
   "execution_count": 48,
   "id": "6b7410df",
   "metadata": {},
   "outputs": [],
   "source": [
    "s3_client = boto3.client(\"s3\")\n",
    "nlp = spacy.load(\"en_core_web_lg\")"
   ]
  },
  {
   "cell_type": "code",
   "execution_count": 16,
   "id": "97473bf1",
   "metadata": {},
   "outputs": [],
   "source": [
    "os.makedirs(\"data\", exist_ok=True) "
   ]
  },
  {
   "cell_type": "code",
   "execution_count": 17,
   "id": "7b8ca4d9",
   "metadata": {},
   "outputs": [],
   "source": [
    "filepath = os.path.join('data', key)"
   ]
  },
  {
   "cell_type": "code",
   "execution_count": 18,
   "id": "157d3684",
   "metadata": {},
   "outputs": [],
   "source": [
    "os.path.dirname(filepath) and os.makedirs(os.path.dirname(filepath), exist_ok=True) \n"
   ]
  },
  {
   "cell_type": "code",
   "execution_count": 34,
   "id": "39ab061d",
   "metadata": {},
   "outputs": [],
   "source": [
    "s3_client.download_file(bucket, key, filepath)\n",
    "\n",
    "df = pd.read_csv(filepath)"
   ]
  },
  {
   "cell_type": "code",
   "execution_count": 36,
   "id": "284c65b6",
   "metadata": {},
   "outputs": [],
   "source": [
    "def timeit(fn, *args, **kwargs):\n",
    "    s = time.perf_counter()\n",
    "    ret = fn(*args, **kwargs)\n",
    "    e = time.perf_counter()\n",
    "    print(f\"{fn.__name__} took {e-s} secs\")\n",
    "    return ret"
   ]
  },
  {
   "cell_type": "code",
   "execution_count": 57,
   "id": "ae097c3f",
   "metadata": {},
   "outputs": [],
   "source": [
    "def extract_quotes(row, text_col, uid_col, publication=\"scmp\", year=\"2012\"):\n",
    "    \"\"\"Row is a row in a dataframe with a text column and unique idenifier column.\"\"\"\n",
    "    doc = nlp(row[text_col])\n",
    "    # list of dictionaries\n",
    "    final_quotes = quote_extractor.extract_quotes(row[uid_col], doc)\n",
    "    for item in final_quotes:\n",
    "        item[\"source\"] = row[uid_col]\n",
    "        item[\"publication\"] = publication\n",
    "        item[\"year\"] = year\n",
    "    return final_quotes"
   ]
  },
  {
   "cell_type": "code",
   "execution_count": 58,
   "id": "4cce814c",
   "metadata": {},
   "outputs": [],
   "source": [
    "def run(input_df, output_name, publication=\"scmp\", year=\"2012\"):\n",
    "    quote_dcts = input_df.apply(\n",
    "        lambda row: extract_quotes(row, \"Body\", \"Index\", publication, year), axis=1\n",
    "    )\n",
    "    quotedf = pd.json_normalize(quote_dcts.explode()).dropna().convert_dtypes()\n",
    "    quotedf.to_csv(output_name)\n",
    "    return quotedf"
   ]
  },
  {
   "cell_type": "code",
   "execution_count": 59,
   "id": "143f76b0",
   "metadata": {},
   "outputs": [],
   "source": [
    "def upload_s3(filepath, bucket, key=None):\n",
    "    if not key:\n",
    "        key = filepath\n",
    "    try:\n",
    "        response = s3_client.upload_file(filepath, bucket, key)\n",
    "        return response\n",
    "    except ClientError as e:\n",
    "        logging.exception(e)\n"
   ]
  },
  {
   "cell_type": "code",
   "execution_count": 60,
   "id": "5748f35e",
   "metadata": {},
   "outputs": [],
   "source": [
    "# quotedf = timeit(run, df, path)\n",
    "# upload_s3(path, bucket, key=f\"{paper}/quotes/q_{year}.csv\")    "
   ]
  },
  {
   "cell_type": "code",
   "execution_count": 61,
   "id": "37ac410f",
   "metadata": {},
   "outputs": [],
   "source": [
    "from tqdm import tqdm"
   ]
  },
  {
   "cell_type": "code",
   "execution_count": null,
   "id": "b500ae4c",
   "metadata": {},
   "outputs": [],
   "source": []
  },
  {
   "cell_type": "code",
   "execution_count": null,
   "id": "80f4fa56",
   "metadata": {},
   "outputs": [
    {
     "name": "stderr",
     "output_type": "stream",
     "text": [
      "  0%|          | 0/9 [00:00<?, ?it/s]"
     ]
    },
    {
     "name": "stdout",
     "output_type": "stream",
     "text": [
      "working on  scmp/2012.csv\n"
     ]
    }
   ],
   "source": [
    "for year in tqdm(range(2012, 2021)):\n",
    "    key = f\"{paper}/{year}.csv\"\n",
    "    filepath = os.path.join('data', key)    \n",
    "    path = f\"quotes_{paper}_{year}.csv\"\n",
    "    print(\"working on \", key)\n",
    "    s3_client.download_file(bucket, key, filepath)\n",
    "    df = pd.read_csv(filepath)\n",
    "    df[\"Body\"] = df.Body.astype(str)\n",
    "    quotedf = timeit(run, df, path, paper, year)\n",
    "    upload_s3(path, bucket, key=f\"{paper}/quotes/q_{year}.csv\")    "
   ]
  },
  {
   "cell_type": "code",
   "execution_count": null,
   "id": "e2ed84b0",
   "metadata": {},
   "outputs": [],
   "source": []
  }
 ],
 "metadata": {
  "kernelspec": {
   "display_name": "conda_nlp",
   "language": "python",
   "name": "conda_nlp"
  },
  "language_info": {
   "codemirror_mode": {
    "name": "ipython",
    "version": 3
   },
   "file_extension": ".py",
   "mimetype": "text/x-python",
   "name": "python",
   "nbconvert_exporter": "python",
   "pygments_lexer": "ipython3",
   "version": "3.7.12"
  }
 },
 "nbformat": 4,
 "nbformat_minor": 5
}
